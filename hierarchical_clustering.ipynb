{
 "cells": [
  {
   "cell_type": "markdown",
   "metadata": {},
   "source": [
    "# Кластеризация"
   ]
  },
  {
   "cell_type": "markdown",
   "metadata": {},
   "source": [
    "В данной тетради рассматривается решение задачи кластерного анализа алгоритмами иерархической кластеризации. Показаны возможности библиотек Python непосредственно по решению задачи кластеризации, извлечению нужной структуры кластеров и их графического представления.    \n",
    "Общая схема решения задачи:     \n",
    "1. Чтение исходных данных (формат файла, формат записей, кодировка и т.п.);\n",
    "2. Получение предварительной информации об имеющимся массива (просмотр заголовков, размерность, просмотр части данных, получение информации о типах данных, преобразование типов, поиск пропусков, заполнение пропусков);\n",
    "3. Аккуратные данные (поиск и заполнение пропусков, поиск и удаление дубликатов, формирование итогового набора данных для кластеризации);\n",
    "4. Иерархическая кластеризация: агломеративный алгоритм.\n",
    "\n",
    "\n",
    "Дополнительные источники для изучения указаны в конце настоящей тетради. "
   ]
  },
  {
   "cell_type": "markdown",
   "metadata": {},
   "source": [
    "## 1. Чтение исходных данных\n",
    "\n",
    "Для ознакомления с необходимым материал рекомендую книгу [1, глава 6, стр. 175].     \n",
    "В рассматриваемом примере исходные данные хранятся в txt-файле, разделенные знаком табуляции.    \n",
    "Для чтения воспользуемся функцией `.read_table()`.    \n",
    "В качестве параметров передадим\n",
    "- `path` -- путь к файлу;\n",
    "- `encoding` -- исходную кодировку, в которой хранятся данные;\n",
    "- `sep` -- последовательность символов или регулярное выражение, служащее для разделения полей в строке: ',',';','\\t'(знак табуляции), '\\s+' -- если поля разделены переменным числом пробелов;\n",
    "- `nrows` -- количество читаемых строк от начала файла.\n",
    "\n",
    "Подключаем библиотеку `pandas` и загружаем исходные данные в датафрейм `df`. \n",
    "\n",
    "ВАЖНО: В данном случае с целью упрощения и повышения производительности прочитаны только первых 100 строк исходного массива."
   ]
  },
  {
   "cell_type": "code",
   "execution_count": 1,
   "metadata": {},
   "outputs": [],
   "source": [
    "import pandas as pd\n",
    "pd.set_option('display.precision',3)\n",
    "df=pd.read_table('mobile.txt', encoding='1251', sep='\\t', nrows=100)"
   ]
  },
  {
   "cell_type": "markdown",
   "metadata": {},
   "source": [
    "## 2. Получение предварительной информации об имеющимся массива   \n",
    "\n",
    "Для получения предварительной информации об анализируемом массиве можно воспользоваться следующими возможностями Python    \n",
    "- Просмотр с помощью свойства `.head()` указанного числа первых строк датафрейма. По умолчанию выводится 5 первых строк датафрейма;\n",
    "- Размерность датафрейма можно узнать с помощью свойства .shape;\n",
    "- Просмотр заголовков столбов с помощью свойства .columns;\n",
    "- Просмотр информации о типах переменных с помощью свойства `.info()`"
   ]
  },
  {
   "cell_type": "code",
   "execution_count": 2,
   "metadata": {},
   "outputs": [
    {
     "data": {
      "text/html": [
       "<div>\n",
       "<style scoped>\n",
       "    .dataframe tbody tr th:only-of-type {\n",
       "        vertical-align: middle;\n",
       "    }\n",
       "\n",
       "    .dataframe tbody tr th {\n",
       "        vertical-align: top;\n",
       "    }\n",
       "\n",
       "    .dataframe thead th {\n",
       "        text-align: right;\n",
       "    }\n",
       "</style>\n",
       "<table border=\"1\" class=\"dataframe\">\n",
       "  <thead>\n",
       "    <tr style=\"text-align: right;\">\n",
       "      <th></th>\n",
       "      <th>Код</th>\n",
       "      <th>Возраст</th>\n",
       "      <th>Среднемесячный расход</th>\n",
       "      <th>Средняя продолжительность разговоров</th>\n",
       "      <th>Звонков днем за месяц</th>\n",
       "      <th>Звонков вечером за месяц</th>\n",
       "      <th>Звонков ночью за месяц</th>\n",
       "      <th>Звонки в другие города</th>\n",
       "      <th>Звонки в другие страны</th>\n",
       "      <th>Доля звонков на стационарные телефоны</th>\n",
       "      <th>Количество SMS за месяц</th>\n",
       "    </tr>\n",
       "  </thead>\n",
       "  <tbody>\n",
       "    <tr>\n",
       "      <th>0</th>\n",
       "      <td>0</td>\n",
       "      <td>24</td>\n",
       "      <td>121.54</td>\n",
       "      <td>2.4</td>\n",
       "      <td>12</td>\n",
       "      <td>65</td>\n",
       "      <td>5</td>\n",
       "      <td>0</td>\n",
       "      <td>0</td>\n",
       "      <td>5</td>\n",
       "      <td>56</td>\n",
       "    </tr>\n",
       "    <tr>\n",
       "      <th>1</th>\n",
       "      <td>1</td>\n",
       "      <td>51</td>\n",
       "      <td>287.51</td>\n",
       "      <td>1.7</td>\n",
       "      <td>111</td>\n",
       "      <td>109</td>\n",
       "      <td>1</td>\n",
       "      <td>44</td>\n",
       "      <td>0</td>\n",
       "      <td>6</td>\n",
       "      <td>1</td>\n",
       "    </tr>\n",
       "    <tr>\n",
       "      <th>2</th>\n",
       "      <td>2</td>\n",
       "      <td>41</td>\n",
       "      <td>113.70</td>\n",
       "      <td>2.1</td>\n",
       "      <td>41</td>\n",
       "      <td>27</td>\n",
       "      <td>0</td>\n",
       "      <td>0</td>\n",
       "      <td>0</td>\n",
       "      <td>1</td>\n",
       "      <td>36</td>\n",
       "    </tr>\n",
       "    <tr>\n",
       "      <th>3</th>\n",
       "      <td>3</td>\n",
       "      <td>35</td>\n",
       "      <td>410.23</td>\n",
       "      <td>5.6</td>\n",
       "      <td>47</td>\n",
       "      <td>49</td>\n",
       "      <td>0</td>\n",
       "      <td>0</td>\n",
       "      <td>0</td>\n",
       "      <td>11</td>\n",
       "      <td>23</td>\n",
       "    </tr>\n",
       "    <tr>\n",
       "      <th>4</th>\n",
       "      <td>4</td>\n",
       "      <td>26</td>\n",
       "      <td>537.60</td>\n",
       "      <td>4.8</td>\n",
       "      <td>58</td>\n",
       "      <td>77</td>\n",
       "      <td>4</td>\n",
       "      <td>0</td>\n",
       "      <td>0</td>\n",
       "      <td>16</td>\n",
       "      <td>29</td>\n",
       "    </tr>\n",
       "  </tbody>\n",
       "</table>\n",
       "</div>"
      ],
      "text/plain": [
       "   Код  Возраст  Среднемесячный расход  Средняя продолжительность разговоров  \\\n",
       "0    0       24                 121.54                                   2.4   \n",
       "1    1       51                 287.51                                   1.7   \n",
       "2    2       41                 113.70                                   2.1   \n",
       "3    3       35                 410.23                                   5.6   \n",
       "4    4       26                 537.60                                   4.8   \n",
       "\n",
       "   Звонков днем за месяц  Звонков вечером за месяц  Звонков ночью за месяц  \\\n",
       "0                     12                        65                       5   \n",
       "1                    111                       109                       1   \n",
       "2                     41                        27                       0   \n",
       "3                     47                        49                       0   \n",
       "4                     58                        77                       4   \n",
       "\n",
       "   Звонки в другие города  Звонки в другие страны  \\\n",
       "0                       0                       0   \n",
       "1                      44                       0   \n",
       "2                       0                       0   \n",
       "3                       0                       0   \n",
       "4                       0                       0   \n",
       "\n",
       "   Доля звонков на стационарные телефоны  Количество SMS за месяц  \n",
       "0                                      5                       56  \n",
       "1                                      6                        1  \n",
       "2                                      1                       36  \n",
       "3                                     11                       23  \n",
       "4                                     16                       29  "
      ]
     },
     "execution_count": 2,
     "metadata": {},
     "output_type": "execute_result"
    }
   ],
   "source": [
    "df.head()"
   ]
  },
  {
   "cell_type": "code",
   "execution_count": 3,
   "metadata": {},
   "outputs": [
    {
     "data": {
      "text/html": [
       "<div>\n",
       "<style scoped>\n",
       "    .dataframe tbody tr th:only-of-type {\n",
       "        vertical-align: middle;\n",
       "    }\n",
       "\n",
       "    .dataframe tbody tr th {\n",
       "        vertical-align: top;\n",
       "    }\n",
       "\n",
       "    .dataframe thead th {\n",
       "        text-align: right;\n",
       "    }\n",
       "</style>\n",
       "<table border=\"1\" class=\"dataframe\">\n",
       "  <thead>\n",
       "    <tr style=\"text-align: right;\">\n",
       "      <th></th>\n",
       "      <th>Возраст</th>\n",
       "      <th>Средняя продолжительность разговоров</th>\n",
       "      <th>Звонков вечером за месяц</th>\n",
       "    </tr>\n",
       "  </thead>\n",
       "  <tbody>\n",
       "    <tr>\n",
       "      <th>0</th>\n",
       "      <td>24</td>\n",
       "      <td>2.4</td>\n",
       "      <td>65</td>\n",
       "    </tr>\n",
       "    <tr>\n",
       "      <th>1</th>\n",
       "      <td>51</td>\n",
       "      <td>1.7</td>\n",
       "      <td>109</td>\n",
       "    </tr>\n",
       "    <tr>\n",
       "      <th>2</th>\n",
       "      <td>41</td>\n",
       "      <td>2.1</td>\n",
       "      <td>27</td>\n",
       "    </tr>\n",
       "    <tr>\n",
       "      <th>3</th>\n",
       "      <td>35</td>\n",
       "      <td>5.6</td>\n",
       "      <td>49</td>\n",
       "    </tr>\n",
       "    <tr>\n",
       "      <th>4</th>\n",
       "      <td>26</td>\n",
       "      <td>4.8</td>\n",
       "      <td>77</td>\n",
       "    </tr>\n",
       "    <tr>\n",
       "      <th>...</th>\n",
       "      <td>...</td>\n",
       "      <td>...</td>\n",
       "      <td>...</td>\n",
       "    </tr>\n",
       "    <tr>\n",
       "      <th>95</th>\n",
       "      <td>29</td>\n",
       "      <td>18.2</td>\n",
       "      <td>78</td>\n",
       "    </tr>\n",
       "    <tr>\n",
       "      <th>96</th>\n",
       "      <td>54</td>\n",
       "      <td>1.1</td>\n",
       "      <td>68</td>\n",
       "    </tr>\n",
       "    <tr>\n",
       "      <th>97</th>\n",
       "      <td>25</td>\n",
       "      <td>3.7</td>\n",
       "      <td>45</td>\n",
       "    </tr>\n",
       "    <tr>\n",
       "      <th>98</th>\n",
       "      <td>54</td>\n",
       "      <td>2.8</td>\n",
       "      <td>98</td>\n",
       "    </tr>\n",
       "    <tr>\n",
       "      <th>99</th>\n",
       "      <td>47</td>\n",
       "      <td>3.8</td>\n",
       "      <td>126</td>\n",
       "    </tr>\n",
       "  </tbody>\n",
       "</table>\n",
       "<p>100 rows × 3 columns</p>\n",
       "</div>"
      ],
      "text/plain": [
       "    Возраст  Средняя продолжительность разговоров  Звонков вечером за месяц\n",
       "0        24                                   2.4                        65\n",
       "1        51                                   1.7                       109\n",
       "2        41                                   2.1                        27\n",
       "3        35                                   5.6                        49\n",
       "4        26                                   4.8                        77\n",
       "..      ...                                   ...                       ...\n",
       "95       29                                  18.2                        78\n",
       "96       54                                   1.1                        68\n",
       "97       25                                   3.7                        45\n",
       "98       54                                   2.8                        98\n",
       "99       47                                   3.8                       126\n",
       "\n",
       "[100 rows x 3 columns]"
      ]
     },
     "execution_count": 3,
     "metadata": {},
     "output_type": "execute_result"
    }
   ],
   "source": [
    "df.iloc[:,1:6:2]"
   ]
  },
  {
   "cell_type": "markdown",
   "metadata": {},
   "source": [
    "ДОПОЛНИТЕЛЬНАЯ ИНФОРМАЦИЯ: С помощью свойства `.tail()` можно просмотреть заданное число последних строк массива. По умолчанию выводится 5 строк "
   ]
  },
  {
   "cell_type": "markdown",
   "metadata": {},
   "source": [
    "+ Размерность датафрейма можно узнать с помощью свойства `.shape`    \n",
    "ДОПОЛНИТЕЛЬНАЯ ИНФОРМАЦИЯ: количество строк датафрейма можно узнать с помощью метода `len()`"
   ]
  },
  {
   "cell_type": "code",
   "execution_count": 4,
   "metadata": {},
   "outputs": [
    {
     "data": {
      "text/plain": [
       "(100, 11)"
      ]
     },
     "execution_count": 4,
     "metadata": {},
     "output_type": "execute_result"
    }
   ],
   "source": [
    "df.shape"
   ]
  },
  {
   "cell_type": "markdown",
   "metadata": {},
   "source": [
    "+ Просмотр заголовков столбов с помощью свойства `.columns` "
   ]
  },
  {
   "cell_type": "code",
   "execution_count": 5,
   "metadata": {},
   "outputs": [
    {
     "data": {
      "text/plain": [
       "Index(['Код', 'Возраст', 'Среднемесячный расход',\n",
       "       'Средняя продолжительность разговоров', 'Звонков днем за месяц',\n",
       "       'Звонков вечером за месяц', 'Звонков ночью за месяц',\n",
       "       'Звонки в другие города', 'Звонки в другие страны',\n",
       "       'Доля звонков на стационарные телефоны', 'Количество SMS за месяц'],\n",
       "      dtype='object')"
      ]
     },
     "execution_count": 5,
     "metadata": {},
     "output_type": "execute_result"
    }
   ],
   "source": [
    "df.columns"
   ]
  },
  {
   "cell_type": "markdown",
   "metadata": {},
   "source": [
    "## 3. Аккуратные данные\n",
    "\n",
    "Аккуратные данные --- данные, пригодные для дальнейшего анализа. Для получения аккуратных данных необходимо разрешить следующие проблемы, связанные с имеющимися данными (список может быть расширен):     \n",
    "- имена объектов или признаков отличаются от желаемых (требуемых);  \n",
    "- есть пропущенные данные;\n",
    "- значения указаны не в тех единицах измерения, которые требуются;\n",
    "- временной период выборки наблюдений не тот;\n",
    "- переменные являются категориальными, а требуются количественные;\n",
    "- присутсвует шум в данных;\n",
    "- информация неверного типа;\n",
    "- данные неправильно ориентированы по осям;\n",
    "- данные неправильно нормализованы;\n",
    "- данные дублизуются."
   ]
  },
  {
   "cell_type": "markdown",
   "metadata": {},
   "source": [
    "## 3.1 Поиск и импутация пропущенных наблюдений\n",
    "- Вывод общей информации о наличие пропусков во всех переменных можно осуществить, воспользовавшись цепочкой методов `.isnull()` и `.sum()`"
   ]
  },
  {
   "cell_type": "code",
   "execution_count": 6,
   "metadata": {
    "scrolled": true
   },
   "outputs": [
    {
     "data": {
      "text/plain": [
       "Код                                      0\n",
       "Возраст                                  0\n",
       "Среднемесячный расход                    0\n",
       "Средняя продолжительность разговоров     0\n",
       "Звонков днем за месяц                    0\n",
       "Звонков вечером за месяц                 0\n",
       "Звонков ночью за месяц                   0\n",
       "Звонки в другие города                   0\n",
       "Звонки в другие страны                   0\n",
       "Доля звонков на стационарные телефоны    0\n",
       "Количество SMS за месяц                  0\n",
       "dtype: int64"
      ]
     },
     "execution_count": 6,
     "metadata": {},
     "output_type": "execute_result"
    }
   ],
   "source": [
    "df.isnull().sum()"
   ]
  },
  {
   "cell_type": "markdown",
   "metadata": {},
   "source": [
    "## 3.2 Типы признаков\n",
    "\n",
    "Для просмотра информации о типах наблюдаемых признаков у объектов воспользуемся свойством `.info()`"
   ]
  },
  {
   "cell_type": "code",
   "execution_count": 7,
   "metadata": {},
   "outputs": [
    {
     "name": "stdout",
     "output_type": "stream",
     "text": [
      "<class 'pandas.core.frame.DataFrame'>\n",
      "RangeIndex: 100 entries, 0 to 99\n",
      "Data columns (total 11 columns):\n",
      "Код                                      100 non-null int64\n",
      "Возраст                                  100 non-null int64\n",
      "Среднемесячный расход                    100 non-null float64\n",
      "Средняя продолжительность разговоров     100 non-null float64\n",
      "Звонков днем за месяц                    100 non-null int64\n",
      "Звонков вечером за месяц                 100 non-null int64\n",
      "Звонков ночью за месяц                   100 non-null int64\n",
      "Звонки в другие города                   100 non-null int64\n",
      "Звонки в другие страны                   100 non-null int64\n",
      "Доля звонков на стационарные телефоны    100 non-null int64\n",
      "Количество SMS за месяц                  100 non-null int64\n",
      "dtypes: float64(2), int64(9)\n",
      "memory usage: 8.7 KB\n"
     ]
    }
   ],
   "source": [
    "df.info()"
   ]
  },
  {
   "cell_type": "markdown",
   "metadata": {},
   "source": [
    "## 3.3 Генерирование входного массива и нормализация признаков "
   ]
  },
  {
   "cell_type": "code",
   "execution_count": 8,
   "metadata": {},
   "outputs": [],
   "source": [
    "X=df.iloc[:,:].values\n",
    "X=(X-X.mean(axis=0))/X.std(axis=0)\n",
    "#print(X.mean(axis=0)) #просмотр массива выборочных средних -- они должны быть равны 0 \n",
    "#print(X.std(axis=0)) # просмотр массива стандартных отклонений --- они должны быть равными 1\n",
    "#print(X) # просмотр входного массива --- аккуратные данные!!!!"
   ]
  },
  {
   "cell_type": "markdown",
   "metadata": {},
   "source": [
    "## 4. Иерархическая кластеризация: агломеративный алгоритм"
   ]
  },
  {
   "cell_type": "markdown",
   "metadata": {},
   "source": [
    "### 4.1 Реализация разбинения, матрица связей и ее интерпретация, визуализация\n",
    "\n",
    "Для дополнительного изучения материала рекомендуется воспользоваться ресурсами [2, 3]    \n",
    "Иерархическая кластеризация реализована в модуле `scipy.cluster.hierarchy`.    \n",
    "Импортируем из этого модуля методы:    \n",
    "- `.linkage()` -- выполняет иерархическую (агломеративную) кластеризацию; \n",
    "- `.dendrogram()` -- строит дендрограмму;\n",
    "- `.fcluster()` -- \n",
    "\n",
    "Метод `.linkage()` имеет следующую спецификацию `linkage(X[, method, metric, optimal_ordering])`:    \n",
    "- X -- матрица попарных расстояний или исходных данных (в матрице не должно быть пробелов или категориальных значений)\n",
    "- method -- правило, по которому будут рассчитываться расстояния между кластерами:    \n",
    "    - `single`\n",
    "    - `complete`\n",
    "    - `average`\n",
    "    - `weighted`\n",
    "    - `centroid`\n",
    "    - `median`\n",
    "    - `ward`\n",
    "- metric -- метрика: `braycurtis`, `canberra`, `chebyshev`, `cityblock`, `correlation`, `cosine`, `dice`, `euclidean`, `hamming`, `jaccard`, `jensenshannon`, `kulsinski`, `mahalanobis`, `matching`, `minkowsk`, `rogerstanimoto`, `russellrao`, `seuclidean`, `sokalmichener`, `sokalsneath`, `sqeuclidean`, `yule`.\n",
    "\n",
    "Результатом выполнения метода `.linkage()` является массив связей кластера. Обозначим его `Z`. Ниже дадим интерпретацию элементам массива `Z`.   "
   ]
  },
  {
   "cell_type": "code",
   "execution_count": 9,
   "metadata": {},
   "outputs": [],
   "source": [
    "from scipy.cluster.hierarchy import linkage, dendrogram, fcluster\n",
    "import matplotlib.pyplot as plt\n",
    "import numpy as np"
   ]
  },
  {
   "cell_type": "code",
   "execution_count": 11,
   "metadata": {},
   "outputs": [
    {
     "data": {
      "image/png": "[encoded data removed]",
      "text/plain": [
       "<Figure size 432x288 with 1 Axes>"
      ]
     },
     "metadata": {
      "needs_background": "light"
     },
     "output_type": "display_data"
    },
    {
     "data": {
      "text/plain": [
       "<Figure size 432x288 with 0 Axes>"
      ]
     },
     "metadata": {},
     "output_type": "display_data"
    }
   ],
   "source": [
    "Z = linkage(X, method='ward') \n",
    "plt.title('Иерархическая кластеризация: дендрограмма')\n",
    "plt.xlabel('Объеты/ кластеры')\n",
    "plt.ylabel('Расстояние')\n",
    "dendrogram(Z) #рекомендуется посмотреть и другие параметры этого метода \n",
    "plt.show() #отобразить дендрограмму \n",
    "plt.savefig('1.png', dpi = 300) #сохранить рисунок"
   ]
  },
  {
   "cell_type": "code",
   "execution_count": 12,
   "metadata": {},
   "outputs": [
    {
     "name": "stdout",
     "output_type": "stream",
     "text": [
      "[[ 47.          50.           0.4064717    2.        ]\n",
      " [ 46.          51.           0.57310023   2.        ]\n",
      " [ 82.          90.           0.6078101    2.        ]\n",
      " [100.         101.           0.60829392   4.        ]\n",
      " [ 70.         102.           0.7341558    3.        ]\n",
      " [ 62.          68.           0.74577465   2.        ]\n",
      " [ 66.          77.           0.79800266   2.        ]\n",
      " [ 76.         106.           0.89208984   3.        ]\n",
      " [ 19.          20.           0.9228828    2.        ]\n",
      " [ 21.          22.           0.92367274   2.        ]\n",
      " [ 89.          98.           1.01020099   2.        ]\n",
      " [ 34.          44.           1.02297361   2.        ]\n",
      " [ 24.          43.           1.0234665    2.        ]\n",
      " [ 41.          61.           1.0512902    2.        ]\n",
      " [  3.          12.           1.05601407   2.        ]\n",
      " [ 29.          36.           1.05631448   2.        ]\n",
      " [  8.          25.           1.1240306    2.        ]\n",
      " [  7.          15.           1.12867273   2.        ]\n",
      " [ 32.         116.           1.23280948   3.        ]\n",
      " [ 81.          93.           1.23622854   2.        ]\n",
      " [ 67.         113.           1.29462386   3.        ]\n",
      " [ 35.          45.           1.33143277   2.        ]\n",
      " [ 31.          59.           1.3486132    2.        ]\n",
      " [  4.         109.           1.36129871   3.        ]\n",
      " [  5.          27.           1.39449622   2.        ]\n",
      " [ 65.          86.           1.42508682   2.        ]\n",
      " [ 38.         112.           1.48756457   3.        ]\n",
      " [ 56.          78.           1.52692307   2.        ]\n",
      " [ 85.          96.           1.54965586   2.        ]\n",
      " [ 52.         125.           1.55160538   3.        ]\n",
      " [  9.          30.           1.55218712   2.        ]\n",
      " [108.         117.           1.55400697   4.        ]\n",
      " [ 99.         110.           1.64615952   3.        ]\n",
      " [ 14.          17.           1.67582907   2.        ]\n",
      " [ 49.          64.           1.67678723   2.        ]\n",
      " [ 18.         121.           1.69193706   3.        ]\n",
      " [ 87.         104.           1.69846894   4.        ]\n",
      " [103.         107.           1.71782048   7.        ]\n",
      " [  0.         118.           1.7387961    4.        ]\n",
      " [ 69.          74.           1.78450667   2.        ]\n",
      " [ 80.          84.           1.80238531   2.        ]\n",
      " [ 55.         105.           1.83117205   3.        ]\n",
      " [ 63.         111.           1.88464988   3.        ]\n",
      " [119.         132.           2.04719942   5.        ]\n",
      " [127.         140.           2.04830563   4.        ]\n",
      " [  2.         130.           2.09502226   3.        ]\n",
      " [ 11.          40.           2.12197289   2.        ]\n",
      " [ 33.         114.           2.12531613   3.        ]\n",
      " [ 42.         139.           2.1274678    3.        ]\n",
      " [ 39.         148.           2.15384096   4.        ]\n",
      " [  6.          26.           2.16895807   2.        ]\n",
      " [ 60.         129.           2.21318887   4.        ]\n",
      " [ 48.         115.           2.22398348   3.        ]\n",
      " [120.         126.           2.33165337   6.        ]\n",
      " [ 54.          91.           2.34700645   2.        ]\n",
      " [ 28.         135.           2.44315517   4.        ]\n",
      " [ 13.         122.           2.47657867   3.        ]\n",
      " [ 58.         146.           2.53259049   3.        ]\n",
      " [ 92.         144.           2.59937218   5.        ]\n",
      " [ 79.          94.           2.63207022   2.        ]\n",
      " [ 71.          97.           2.7202079    2.        ]\n",
      " [123.         145.           2.84454382   6.        ]\n",
      " [124.         133.           2.85404169   4.        ]\n",
      " [ 16.         155.           2.90253981   5.        ]\n",
      " [142.         151.           2.94725833   7.        ]\n",
      " [134.         156.           2.98053649   5.        ]\n",
      " [147.         161.           3.00436857   9.        ]\n",
      " [128.         143.           3.04593769   7.        ]\n",
      " [  1.         163.           3.1199527    6.        ]\n",
      " [153.         164.           3.14530172  13.        ]\n",
      " [154.         159.           3.23247535   4.        ]\n",
      " [ 37.          73.           3.30394742   2.        ]\n",
      " [131.         137.           3.54775763  11.        ]\n",
      " [138.         157.           3.58947761   7.        ]\n",
      " [ 75.         149.           3.6363769    5.        ]\n",
      " [141.         150.           3.79206195   5.        ]\n",
      " [ 53.          95.           4.00247559   2.        ]\n",
      " [162.         165.           4.04731238   9.        ]\n",
      " [158.         160.           4.13524248   7.        ]\n",
      " [171.         175.           4.42889239   7.        ]\n",
      " [152.         174.           4.7061115    8.        ]\n",
      " [136.         172.           4.92904475  15.        ]\n",
      " [170.         178.           5.22173181  11.        ]\n",
      " [166.         173.           5.47612526  16.        ]\n",
      " [ 57.          72.           5.60399334   2.        ]\n",
      " [167.         169.           5.62030476  20.        ]\n",
      " [177.         183.           5.84955612  25.        ]\n",
      " [ 23.          88.           6.13878048   2.        ]\n",
      " [ 10.         184.           6.22118427   3.        ]\n",
      " [ 83.         176.           6.32441721   3.        ]\n",
      " [168.         180.           6.82321956  14.        ]\n",
      " [179.         185.           7.74288569  27.        ]\n",
      " [190.         191.           8.05530284  41.        ]\n",
      " [182.         186.           8.76087832  36.        ]\n",
      " [187.         188.           9.12601225   5.        ]\n",
      " [181.         192.          12.35005701  56.        ]\n",
      " [189.         194.          12.80277087   8.        ]\n",
      " [193.         195.          15.27459432  92.        ]\n",
      " [196.         197.          24.60868826 100.        ]]\n"
     ]
    }
   ],
   "source": [
    "print(Z)"
   ]
  },
  {
   "cell_type": "markdown",
   "metadata": {},
   "source": [
    "Дадим интерпретацию элементам массив связей кластера `Z`. В первом и втором столбцах массива `Z` указаны индексы кластеров (в том числе синглетонов), объединяющих на текущей итерации. В третьем столбце находится расстояние между кластерами. В четвертом столбце индекс нового кластера, показыващий число синглетонов в новом кластере. Например, строка `Z[0]` содержит следующее `array([47., 50., 0.4064717, 2.])`. Элементы этой строки показывают, что на первой (напомним, что индексация массивов начинается с 0) итерации алгоритма объединяются кластеры (здесь синглетоны -- кластер, состоящий из одного элемента) с номерами `47` и `50`, расстояние между кластерами равно `0.4064717`, новому кластеру присвоен номер `2` -- по числу синглетонов в образовавшемся кластере, и т.д.    \n",
    "Напомним, что в исходном массиве число объектов 100, проиндексированных от 0 до 99. Обратим внимание на строку массива `Z` с индексом 3. Строка `Z[3]` имеет вид `array([100., 101., 0.60829392, 4.])`. Имеем, что на данной итерации объединяются кластеры с индексами `100` и `101`. Однако в исходном множестве объектов максимальный индекс равен `99`. Индексы такие, что $idx \\geqslant len(X)$ соответствуют кластерам, которые объединились ранее и находятся в массиве связей кластера в строке `Z[idx-len(X)]`, где $len(X)=100$. Имеем, индекс 100 соответствует кластеру, который образовался на 1 итерации алгоритма и находится в строке `Z[0]`. Видим, что в этой строке объединяются синглетоны с индексами `47` и `50`. Аналогичным образом, индекс 101 соответствует строке массива `Z[1]` --- здесь объединились синглетоны с индексами `46` и `51`. В результате в образовавшемся кластере находятся `4` синглетона."
   ]
  },
  {
   "cell_type": "markdown",
   "metadata": {},
   "source": [
    "### 4.2 Анализ результатов кластеризации: усеченная дендрограмма, выбор кластеров, вывод состава кластеров"
   ]
  },
  {
   "cell_type": "markdown",
   "metadata": {},
   "source": [
    "Если количество элементов, подлежащих кластеризации велико, то можно отобразить усеченную дендрограмму. Усечение используется для сжатия дендрограммы. Для того, чтобы построить усеченную дендрограмму необходимо в команде `.dendrogram()` использовать режим `truncate_mode` со значением `lastp` или `level`.     \n",
    "Если `truncate_mode='lastp'`, то отображается `p` последних образовавшихся кластера. В матрице связей $Z$ это соответствует строкам $Z[n-p-2:end]$. По оси абцисс в скобках указывается число объектов, содержащихся в кластерах."
   ]
  },
  {
   "cell_type": "code",
   "execution_count": 13,
   "metadata": {},
   "outputs": [
    {
     "data": {
      "image/png": "[encoded data removed]",
      "text/plain": [
       "<Figure size 432x288 with 1 Axes>"
      ]
     },
     "metadata": {
      "needs_background": "light"
     },
     "output_type": "display_data"
    }
   ],
   "source": [
    "dendrogram(Z, \n",
    "           truncate_mode = 'lastp', #pвключен режим показывать последние 'p' кластеров  \n",
    "           p=11,                     #отобразить последние 11 кластеров \n",
    "           leaf_rotation = 0,       #угол поворота надписей по оси  \n",
    "           leaf_font_size = 20,     #размер шрифта  \n",
    "           show_contracted = True)  # рисовать черные точки на высотах предыдущих слияний кластеров\n",
    "plt.show()"
   ]
  },
  {
   "cell_type": "markdown",
   "metadata": {},
   "source": [
    "Для выделения некоторого разбиения объектов на кластеры воспользуемся функцией `fcluster()`, которая на основе построенной матрицы связей `Z` выделяет некоторое разбиение на кластеры, исходя из задаваемых польователем критериев. В качестве критерия можно указать либо максимальное количество кластеров `criterion='maxclust'`, либо расстоние `criterion='distance'`.     \n",
    " \n",
    "В первом случае мы указываем требуемое (желаемое) максимальное число кластеров, т.е. используем критерий `criterion='maxclust'`. На выходе имеем массив с указанием номера кластера, которому принадлежит соответствующий исходный объект "
   ]
  },
  {
   "cell_type": "code",
   "execution_count": 14,
   "metadata": {},
   "outputs": [
    {
     "name": "stdout",
     "output_type": "stream",
     "text": [
      "[5 7 5 5 5 5 7 6 5 5 3 5 5 5 5 6 7 5 7 6 6 5 5 2 7 5 7 5 7 7 5 5 5 5 7 7 7\n",
      " 7 7 7 5 7 7 7 7 7 6 6 7 5 6 6 7 1 4 7 4 3 5 5 7 7 7 7 5 7 6 7 7 7 6 4 3 7\n",
      " 7 7 6 6 4 4 4 7 6 1 4 7 7 6 2 7 6 4 4 7 4 1 7 4 7 7]\n"
     ]
    }
   ],
   "source": [
    "label=fcluster(Z, 7, criterion='maxclust')\n",
    "print(label)"
   ]
  },
  {
   "cell_type": "markdown",
   "metadata": {},
   "source": [
    "Для анализа каждого из выделенных кластеров реализуем следующие действия:    \n",
    "1) добавим в исходный датафрейм новый столбец `Номер кластера`;    \n",
    "2) в цикле `for` с использоанием механизма группировки датафрейма `groupby` выведем объекты кластеров"
   ]
  },
  {
   "cell_type": "code",
   "execution_count": 15,
   "metadata": {},
   "outputs": [
    {
     "name": "stdout",
     "output_type": "stream",
     "text": [
      "==========\n",
      "cluster 1\n",
      "    Код  Возраст  Среднемесячный расход  Средняя продолжительность разговоров  \\\n",
      "53   53       31                1922.36                                  14.4   \n",
      "83   84       33                 508.22                                   5.2   \n",
      "95   96       29                1977.50                                  18.2   \n",
      "\n",
      "    Звонков днем за месяц  Звонков вечером за месяц  Звонков ночью за месяц  \\\n",
      "53                    109                       123                      25   \n",
      "83                    100                        64                      30   \n",
      "95                    100                        78                      42   \n",
      "\n",
      "    Звонки в другие города  Звонки в другие страны  \\\n",
      "53                       6                       0   \n",
      "83                      49                       2   \n",
      "95                      38                       0   \n",
      "\n",
      "    Доля звонков на стационарные телефоны  Количество SMS за месяц  \\\n",
      "53                                      5                       79   \n",
      "83                                      4                       65   \n",
      "95                                      0                       62   \n",
      "\n",
      "    Номер кластера  \n",
      "53               1  \n",
      "83               1  \n",
      "95               1  \n",
      "==========\n",
      "cluster 2\n",
      "    Код  Возраст  Среднемесячный расход  Средняя продолжительность разговоров  \\\n",
      "23   23       51                3608.54                                  13.8   \n",
      "88   89       61                1529.92                                   6.4   \n",
      "\n",
      "    Звонков днем за месяц  Звонков вечером за месяц  Звонков ночью за месяц  \\\n",
      "23                    326                        77                      15   \n",
      "88                    243                        91                      15   \n",
      "\n",
      "    Звонки в другие города  Звонки в другие страны  \\\n",
      "23                      58                       3   \n",
      "88                      32                       5   \n",
      "\n",
      "    Доля звонков на стационарные телефоны  Количество SMS за месяц  \\\n",
      "23                                     58                        0   \n",
      "88                                     48                       15   \n",
      "\n",
      "    Номер кластера  \n",
      "23               2  \n",
      "88               2  \n",
      "==========\n",
      "cluster 3\n",
      "    Код  Возраст  Среднемесячный расход  Средняя продолжительность разговоров  \\\n",
      "10   10       23                2672.34                                  13.8   \n",
      "57   57       51                1148.51                                   6.0   \n",
      "72   72       53                2556.34                                   9.8   \n",
      "\n",
      "    Звонков днем за месяц  Звонков вечером за месяц  Звонков ночью за месяц  \\\n",
      "10                    222                        77                      10   \n",
      "57                    184                       112                       9   \n",
      "72                    260                       131                      37   \n",
      "\n",
      "    Звонки в другие города  Звонки в другие страны  \\\n",
      "10                      30                       0   \n",
      "57                      76                       0   \n",
      "72                      42                       0   \n",
      "\n",
      "    Доля звонков на стационарные телефоны  Количество SMS за месяц  \\\n",
      "10                                     20                       10   \n",
      "57                                     43                        8   \n",
      "72                                     55                        8   \n",
      "\n",
      "    Номер кластера  \n",
      "10               3  \n",
      "57               3  \n",
      "72               3  \n",
      "==========\n",
      "cluster 4\n",
      "    Код  Возраст  Среднемесячный расход  Средняя продолжительность разговоров  \\\n",
      "54   54       39                 591.58                                   7.4   \n",
      "56   56       41                 223.91                                   1.9   \n",
      "71   71       33                 612.96                                   8.3   \n",
      "78   79       39                 199.70                                   2.2   \n",
      "79   80       40                1236.03                                   9.9   \n",
      "80   81       37                 149.10                                   1.2   \n",
      "84   85       26                 321.43                                   2.9   \n",
      "91   92       38                1053.15                                   9.9   \n",
      "92   93       35                 206.01                                   3.3   \n",
      "94   95       26                 618.02                                   6.6   \n",
      "97   98       25                 336.70                                   3.7   \n",
      "\n",
      "    Звонков днем за месяц  Звонков вечером за месяц  Звонков ночью за месяц  \\\n",
      "54                     56                        44                       5   \n",
      "56                     90                        58                       0   \n",
      "71                     48                        36                       3   \n",
      "78                     67                        47                       1   \n",
      "79                     68                        98                       4   \n",
      "80                     67                        81                       3   \n",
      "84                     63                        84                       2   \n",
      "91                     59                        84                       0   \n",
      "92                     30                        56                       0   \n",
      "94                     46                        82                       0   \n",
      "97                     60                        45                       2   \n",
      "\n",
      "    Звонки в другие города  Звонки в другие страны  \\\n",
      "54                       0                       0   \n",
      "56                       0                       0   \n",
      "71                      30                       0   \n",
      "78                      13                       0   \n",
      "79                       0                       0   \n",
      "80                       1                       0   \n",
      "84                       0                       0   \n",
      "91                       0                       0   \n",
      "92                      20                       0   \n",
      "94                       0                       1   \n",
      "97                      31                       0   \n",
      "\n",
      "    Доля звонков на стационарные телефоны  Количество SMS за месяц  \\\n",
      "54                                     29                       22   \n",
      "56                                     14                       39   \n",
      "71                                      1                       17   \n",
      "78                                      5                       36   \n",
      "79                                     14                       66   \n",
      "80                                     22                       22   \n",
      "84                                      9                       39   \n",
      "91                                     19                       21   \n",
      "92                                      8                       60   \n",
      "94                                     16                       48   \n",
      "97                                     22                       14   \n",
      "\n",
      "    Номер кластера  \n",
      "54               4  \n",
      "56               4  \n",
      "71               4  \n",
      "78               4  \n",
      "79               4  \n",
      "80               4  \n",
      "84               4  \n",
      "91               4  \n",
      "92               4  \n",
      "94               4  \n",
      "97               4  \n",
      "==========\n",
      "cluster 5\n",
      "    Код  Возраст  Среднемесячный расход  Средняя продолжительность разговоров  \\\n",
      "0     0       24                 121.54                                   2.4   \n",
      "2     2       41                 113.70                                   2.1   \n",
      "3     3       35                 410.23                                   5.6   \n",
      "4     4       26                 537.60                                   4.8   \n",
      "5     5       26                 324.56                                   3.3   \n",
      "8     8       36                 209.12                                   2.5   \n",
      "9     9       40                 162.40                                   1.6   \n",
      "11   11       29                 556.92                                   3.4   \n",
      "12   12       43                 636.75                                   6.8   \n",
      "13   13       21                  57.33                                   2.0   \n",
      "14   14       37                 339.20                                   2.5   \n",
      "17   17       37                 222.09                                   1.9   \n",
      "21   21       27                 245.95                                   2.7   \n",
      "22   22       30                 318.82                                   3.5   \n",
      "25   25       38                 166.77                                   1.7   \n",
      "27   27       30                 349.59                                   2.8   \n",
      "30   30       43                 145.24                                   2.4   \n",
      "31   31       19                  52.43                                   0.7   \n",
      "32   32       29                 237.22                                   2.8   \n",
      "33   33       41                 330.75                                   7.5   \n",
      "40   40       25                 662.73                                   5.1   \n",
      "49   49       26                 569.29                                   5.4   \n",
      "58   58       36                 853.45                                   6.6   \n",
      "59   59       20                  32.87                                   0.4   \n",
      "64   64       19                 340.03                                   3.4   \n",
      "\n",
      "    Звонков днем за месяц  Звонков вечером за месяц  Звонков ночью за месяц  \\\n",
      "0                      12                        65                       5   \n",
      "2                      41                        27                       0   \n",
      "3                      47                        49                       0   \n",
      "4                      58                        77                       4   \n",
      "5                      45                        75                       3   \n",
      "8                      34                        70                       3   \n",
      "9                      79                        32                       4   \n",
      "11                     97                        96                       2   \n",
      "12                     59                        64                       0   \n",
      "13                      2                        39                       8   \n",
      "14                     41                       152                       6   \n",
      "17                     61                        95                       5   \n",
      "21                     62                        55                       0   \n",
      "22                     50                        72                       0   \n",
      "25                     45                        91                       0   \n",
      "27                     69                        96                       6   \n",
      "30                     34                        44                       6   \n",
      "31                     29                        74                       8   \n",
      "32                     33                        86                       0   \n",
      "33                     41                         5                       0   \n",
      "40                     87                        81                       0   \n",
      "49                     65                        71                       7   \n",
      "58                    111                        46                       0   \n",
      "59                     23                       101                      10   \n",
      "64                     50                       102                      10   \n",
      "\n",
      "    Звонки в другие города  Звонки в другие страны  \\\n",
      "0                        0                       0   \n",
      "2                        0                       0   \n",
      "3                        0                       0   \n",
      "4                        0                       0   \n",
      "5                        1                       1   \n",
      "8                        2                       0   \n",
      "9                        0                       0   \n",
      "11                       0                       0   \n",
      "12                       0                       0   \n",
      "13                       0                       0   \n",
      "14                       4                       0   \n",
      "17                       0                       0   \n",
      "21                       0                       0   \n",
      "22                       2                       0   \n",
      "25                       0                       0   \n",
      "27                       7                       1   \n",
      "30                       7                       0   \n",
      "31                       0                       0   \n",
      "32                       1                       0   \n",
      "33                       2                       0   \n",
      "40                       4                       0   \n",
      "49                       0                       0   \n",
      "58                      11                       0   \n",
      "59                       3                       0   \n",
      "64                       4                       0   \n",
      "\n",
      "    Доля звонков на стационарные телефоны  Количество SMS за месяц  \\\n",
      "0                                       5                       56   \n",
      "2                                       1                       36   \n",
      "3                                      11                       23   \n",
      "4                                      16                       29   \n",
      "5                                       8                       15   \n",
      "8                                       7                       63   \n",
      "9                                      18                       27   \n",
      "11                                      0                       49   \n",
      "12                                      8                       18   \n",
      "13                                      2                       21   \n",
      "14                                      1                       20   \n",
      "17                                      1                       18   \n",
      "21                                     19                       23   \n",
      "22                                     12                       26   \n",
      "25                                     11                       56   \n",
      "27                                      6                        3   \n",
      "30                                     12                       15   \n",
      "31                                      0                       39   \n",
      "32                                      3                       55   \n",
      "33                                      7                       12   \n",
      "40                                     18                       53   \n",
      "49                                      9                       14   \n",
      "58                                      2                       58   \n",
      "59                                      3                       46   \n",
      "64                                      3                       26   \n",
      "\n",
      "    Номер кластера  \n",
      "0                5  \n",
      "2                5  \n",
      "3                5  \n",
      "4                5  \n",
      "5                5  \n",
      "8                5  \n",
      "9                5  \n",
      "11               5  \n",
      "12               5  \n",
      "13               5  \n",
      "14               5  \n",
      "17               5  \n",
      "21               5  \n",
      "22               5  \n",
      "25               5  \n",
      "27               5  \n",
      "30               5  \n",
      "31               5  \n",
      "32               5  \n",
      "33               5  \n",
      "40               5  \n",
      "49               5  \n",
      "58               5  \n",
      "59               5  \n",
      "64               5  \n",
      "==========\n",
      "cluster 6\n",
      "    Код  Возраст  Среднемесячный расход  Средняя продолжительность разговоров  \\\n",
      "7     7       66                  14.52                                   1.1   \n",
      "15   15       69                  50.40                                   2.1   \n",
      "19   19       52                  17.69                                   1.8   \n",
      "20   20       59                  74.88                                   2.4   \n",
      "46   46       68                  39.00                                   2.5   \n",
      "47   47       68                  55.20                                   2.3   \n",
      "50   50       65                  73.92                                   2.2   \n",
      "51   51       63                  77.52                                   3.4   \n",
      "66   66       69                  25.92                                   1.2   \n",
      "70   70       53                  14.41                                   1.1   \n",
      "76   77       68                  50.40                                   3.5   \n",
      "77   78       67                  14.40                                   1.5   \n",
      "82   83       47                  13.51                                   1.1   \n",
      "87   88       33                  17.04                                   1.3   \n",
      "90   91       53                  18.72                                   1.2   \n",
      "\n",
      "    Звонков днем за месяц  Звонков вечером за месяц  Звонков ночью за месяц  \\\n",
      "7                      10                         1                       0   \n",
      "15                     15                         5                       0   \n",
      "19                      7                         5                       0   \n",
      "20                      9                        17                       0   \n",
      "46                      9                         4                       0   \n",
      "47                      8                        12                       0   \n",
      "50                     16                        12                       0   \n",
      "51                      9                        10                       0   \n",
      "66                      9                         9                       0   \n",
      "70                     10                         6                       0   \n",
      "76                      5                         7                       0   \n",
      "77                      3                         5                       0   \n",
      "82                     11                         4                       0   \n",
      "87                     11                         5                       0   \n",
      "90                      3                        10                       0   \n",
      "\n",
      "    Звонки в другие города  Звонки в другие страны  \\\n",
      "7                        0                       0   \n",
      "15                       0                       0   \n",
      "19                       0                       0   \n",
      "20                       0                       0   \n",
      "46                       0                       0   \n",
      "47                       0                       0   \n",
      "50                       0                       0   \n",
      "51                       0                       0   \n",
      "66                       0                       0   \n",
      "70                       0                       0   \n",
      "76                       0                       0   \n",
      "77                       0                       0   \n",
      "82                       0                       0   \n",
      "87                       0                       0   \n",
      "90                       0                       0   \n",
      "\n",
      "    Доля звонков на стационарные телефоны  Количество SMS за месяц  \\\n",
      "7                                       3                        1   \n",
      "15                                     14                        3   \n",
      "19                                      0                        0   \n",
      "20                                      7                        1   \n",
      "46                                      4                        3   \n",
      "47                                     10                        1   \n",
      "50                                      7                        0   \n",
      "51                                      6                        1   \n",
      "66                                      2                        1   \n",
      "70                                      0                        0   \n",
      "76                                      2                        0   \n",
      "77                                      9                        1   \n",
      "82                                      0                        0   \n",
      "87                                      0                        0   \n",
      "90                                      2                        1   \n",
      "\n",
      "    Номер кластера  \n",
      "7                6  \n",
      "15               6  \n",
      "19               6  \n",
      "20               6  \n",
      "46               6  \n",
      "47               6  \n",
      "50               6  \n",
      "51               6  \n",
      "66               6  \n",
      "70               6  \n",
      "76               6  \n",
      "77               6  \n",
      "82               6  \n",
      "87               6  \n",
      "90               6  \n",
      "==========\n",
      "cluster 7\n",
      "    Код  Возраст  Среднемесячный расход  Средняя продолжительность разговоров  \\\n",
      "1     1       51                 287.51                                   1.7   \n",
      "6     6       50                 410.04                                   4.1   \n",
      "16   16       46                 539.28                                   5.1   \n",
      "18   18       48                 202.30                                   3.4   \n",
      "24   24       53                 118.44                                   2.4   \n",
      "26   26       53                 606.84                                   7.3   \n",
      "28   28       34                 180.91                                   1.6   \n",
      "29   29       59                1187.88                                   8.4   \n",
      "34   34       54                 513.68                                   6.4   \n",
      "35   35       51                 214.20                                   1.7   \n",
      "36   36       51                 966.20                                   6.4   \n",
      "37   37       53                 351.26                                   2.6   \n",
      "38   38       45                 189.51                                   2.5   \n",
      "39   39       53                 955.63                                   5.2   \n",
      "41   41       53                 343.73                                   3.8   \n",
      "42   42       60                 285.60                                   2.0   \n",
      "43   43       59                 196.00                                   3.5   \n",
      "44   44       59                 310.54                                   3.9   \n",
      "45   45       50                 343.73                                   3.8   \n",
      "48   48       41                 952.28                                   7.6   \n",
      "52   52       51                 424.82                                   5.4   \n",
      "55   55       38                 357.42                                   3.1   \n",
      "60   60       52                 265.69                                   4.3   \n",
      "61   61       53                 232.96                                   2.6   \n",
      "62   62       54                 302.32                                   2.8   \n",
      "63   63       59                 532.02                                   7.2   \n",
      "65   65       44                 467.46                                   5.3   \n",
      "67   67       59                 302.03                                   2.9   \n",
      "68   68       56                 232.95                                   2.3   \n",
      "69   69       56                 670.32                                   5.6   \n",
      "73   73       40                 172.56                                   2.1   \n",
      "74   74       49                 554.32                                   3.8   \n",
      "75   75       55                1548.20                                   9.9   \n",
      "81   82       55                 616.11                                   5.2   \n",
      "85   86       55                 365.32                                   3.7   \n",
      "86   87       48                 484.44                                   6.5   \n",
      "89   90       49                 162.43                                   1.5   \n",
      "93   94       60                 571.39                                   3.9   \n",
      "96   97       54                 117.37                                   1.1   \n",
      "98   99       54                 354.76                                   2.8   \n",
      "99  100       47                 419.97                                   3.8   \n",
      "\n",
      "    Звонков днем за месяц  Звонков вечером за месяц  Звонков ночью за месяц  \\\n",
      "1                     111                       109                       1   \n",
      "6                      61                        71                       0   \n",
      "16                     92                        37                       0   \n",
      "18                     31                        41                       0   \n",
      "24                     36                        19                       1   \n",
      "26                     48                        61                       3   \n",
      "28                     87                        54                       1   \n",
      "29                     91                        93                       2   \n",
      "34                     35                        77                       0   \n",
      "35                    104                        34                       0   \n",
      "36                    104                        90                       0   \n",
      "37                    106                        43                       2   \n",
      "38                     59                        36                       0   \n",
      "39                     99                       147                       3   \n",
      "41                     48                        73                       4   \n",
      "42                     46                       139                       0   \n",
      "43                     35                        31                       0   \n",
      "44                     31                        81                       0   \n",
      "45                     62                        54                       0   \n",
      "48                     41                       121                       0   \n",
      "52                     62                        33                       7   \n",
      "55                     65                        89                       0   \n",
      "60                     42                        38                       0   \n",
      "61                     40                        72                       0   \n",
      "62                     51                        95                       5   \n",
      "63                     42                        57                       0   \n",
      "65                     62                        36                       6   \n",
      "67                     77                        54                       1   \n",
      "68                     51                        86                       2   \n",
      "69                     33                       124                       0   \n",
      "73                     48                        60                       4   \n",
      "74                     93                        98                       0   \n",
      "75                    104                        98                       3   \n",
      "81                     69                        89                       0   \n",
      "85                     65                        64                       0   \n",
      "86                     50                        45                       4   \n",
      "89                     67                        76                       0   \n",
      "93                    109                        75                       2   \n",
      "96                     69                        68                       5   \n",
      "98                     59                        98                       0   \n",
      "99                     33                       126                       1   \n",
      "\n",
      "    Звонки в другие города  Звонки в другие страны  \\\n",
      "1                       44                       0   \n",
      "6                        0                       2   \n",
      "16                      25                       0   \n",
      "18                      30                       0   \n",
      "24                       4                       0   \n",
      "26                       0                       2   \n",
      "28                      36                       0   \n",
      "29                       0                       0   \n",
      "34                       0                       0   \n",
      "35                      38                       0   \n",
      "36                       0                       0   \n",
      "37                      41                       2   \n",
      "38                       0                       0   \n",
      "39                      24                       0   \n",
      "41                       0                       0   \n",
      "42                      33                       0   \n",
      "43                       0                       0   \n",
      "44                       2                       0   \n",
      "45                      31                       0   \n",
      "48                       0                       0   \n",
      "52                       0                       0   \n",
      "55                       7                       1   \n",
      "60                       5                       1   \n",
      "61                       3                       0   \n",
      "62                       0                       1   \n",
      "63                      10                       0   \n",
      "65                       0                       0   \n",
      "67                       0                       0   \n",
      "68                       0                       1   \n",
      "69                      33                       0   \n",
      "73                      22                       2   \n",
      "74                      22                       0   \n",
      "75                      40                       0   \n",
      "81                       0                       0   \n",
      "85                      15                       0   \n",
      "86                       0                       0   \n",
      "89                       4                       0   \n",
      "93                       0                       0   \n",
      "96                      22                       0   \n",
      "98                       1                       0   \n",
      "99                       3                       0   \n",
      "\n",
      "    Доля звонков на стационарные телефоны  Количество SMS за месяц  \\\n",
      "1                                       6                        1   \n",
      "6                                      23                        4   \n",
      "16                                     27                        0   \n",
      "18                                      1                        4   \n",
      "24                                     14                        4   \n",
      "26                                      5                        1   \n",
      "28                                     11                       30   \n",
      "29                                     18                        5   \n",
      "34                                      2                        3   \n",
      "35                                      8                        4   \n",
      "36                                     18                        4   \n",
      "37                                     27                        4   \n",
      "38                                     21                        3   \n",
      "39                                     12                        1   \n",
      "41                                     15                        4   \n",
      "42                                      4                        4   \n",
      "43                                     11                        2   \n",
      "44                                      3                        2   \n",
      "45                                      8                        1   \n",
      "48                                     11                        5   \n",
      "52                                     16                        5   \n",
      "55                                     22                        3   \n",
      "60                                      7                        4   \n",
      "61                                     12                        4   \n",
      "62                                     15                        2   \n",
      "63                                     12                        0   \n",
      "65                                      2                       16   \n",
      "67                                     16                        5   \n",
      "68                                     20                        2   \n",
      "69                                     11                        1   \n",
      "73                                     14                       44   \n",
      "74                                      6                        1   \n",
      "75                                      3                        4   \n",
      "81                                      0                        3   \n",
      "85                                     19                        5   \n",
      "86                                     11                        4   \n",
      "89                                      3                        4   \n",
      "93                                      5                        0   \n",
      "96                                     10                        3   \n",
      "98                                      0                        5   \n",
      "99                                      3                        3   \n",
      "\n",
      "    Номер кластера  \n",
      "1                7  \n",
      "6                7  \n",
      "16               7  \n",
      "18               7  \n",
      "24               7  \n",
      "26               7  \n",
      "28               7  \n",
      "29               7  \n",
      "34               7  \n",
      "35               7  \n",
      "36               7  \n",
      "37               7  \n",
      "38               7  \n",
      "39               7  \n",
      "41               7  \n",
      "42               7  \n",
      "43               7  \n",
      "44               7  \n",
      "45               7  \n",
      "48               7  \n",
      "52               7  \n",
      "55               7  \n",
      "60               7  \n",
      "61               7  \n",
      "62               7  \n",
      "63               7  \n",
      "65               7  \n",
      "67               7  \n",
      "68               7  \n",
      "69               7  \n",
      "73               7  \n",
      "74               7  \n",
      "75               7  \n",
      "81               7  \n",
      "85               7  \n",
      "86               7  \n",
      "89               7  \n",
      "93               7  \n",
      "96               7  \n",
      "98               7  \n",
      "99               7  \n"
     ]
    }
   ],
   "source": [
    "df.loc[:,'Номер кластера']=label # добавление нового столбца с метками \n",
    "for i, group in df.groupby('Номер кластера'): # вывод элементов каждого кластера  \n",
    "    print('=' * 10)\n",
    "    print('cluster {}'.format(i))\n",
    "    print(group)"
   ]
  },
  {
   "cell_type": "markdown",
   "metadata": {},
   "source": [
    "Во втором случае мы указываем расстояние по оси ординат, на котором будем проводить линию среза, т.е. используем критерий `criterion='distance'`. На выходе имеем массив с указанием номера кластера, которому принадлежит соответствующий исходный объект.     \n",
    "Пусть, например, мы хотим узнать какие кластеры объединились на расстоянии 7. Для наглядности на дендрограмме нарисуем соответствующую линию среза `y=10`.   "
   ]
  },
  {
   "cell_type": "code",
   "execution_count": 16,
   "metadata": {},
   "outputs": [
    {
     "data": {
      "image/png": "[encoded data removed]",
      "text/plain": [
       "<Figure size 432x288 with 1 Axes>"
      ]
     },
     "metadata": {
      "needs_background": "light"
     },
     "output_type": "display_data"
    }
   ],
   "source": [
    "plt.axhline(y=10) #рисуем горизонтальную линию\n",
    "dendrogram(Z, \n",
    "           truncate_mode = 'lastp', #pвключен режим показывать последние 'p' кластеров  \n",
    "           p=11,                     #отобразить последние 11 кластеров \n",
    "           leaf_rotation = 0,       #угол поворота надписей по оси  \n",
    "           leaf_font_size = 20,     #размер шрифта  \n",
    "           show_contracted = True)  # рисовать черные точки на высотах предыдущих слияний кластеров\n",
    "plt.show()"
   ]
  },
  {
   "cell_type": "markdown",
   "metadata": {},
   "source": [
    "На рисунке показано, что на этом уровне имеется 5 кластеров. Выделим эти кластеры с использованием функции `fcluster()`, задав критерий расстояния. Имеем"
   ]
  },
  {
   "cell_type": "code",
   "execution_count": 44,
   "metadata": {},
   "outputs": [
    {
     "name": "stdout",
     "output_type": "stream",
     "text": [
      "[3 5 3 3 3 3 5 4 3 3 2 3 3 3 3 4 5 3 5 4 4 3 3 2 5 3 5 3 5 5 3 3 3 3 5 5 5\n",
      " 5 5 5 3 5 5 5 5 5 4 4 5 3 4 4 5 1 3 5 3 2 3 3 5 5 5 5 3 5 4 5 5 5 4 3 2 5\n",
      " 5 5 4 4 3 3 3 5 4 1 3 5 5 4 2 5 4 3 3 5 3 1 5 3 5 5]\n"
     ]
    }
   ],
   "source": [
    "label1=fcluster(Z, 10, criterion='distance')\n",
    "print(label1)"
   ]
  },
  {
   "cell_type": "markdown",
   "metadata": {},
   "source": [
    "Видим, что построено распределение исходных элементов на 5 кластеров. Для анализа каждого кластера можно проделать последовательность действий, аналогичную выше рассмотренной.  "
   ]
  },
  {
   "cell_type": "markdown",
   "metadata": {},
   "source": [
    "ДОПОЛНИТЕЛЬНАЯ ИНФОРМАЦИЯ: Следует заметить, что при использовании значения `distance` количество кластеров уменьшается с ростом расстояния -- значения параметра `t`. ЖЕЛАТЕЛЬНО разместить соответствующий график зависимости.  "
   ]
  },
  {
   "cell_type": "markdown",
   "metadata": {},
   "source": [
    "### 4.3 Метод локтя"
   ]
  },
  {
   "cell_type": "markdown",
   "metadata": {},
   "source": [
    "Для поиска \"оптимального\" числа кластеров воспользуемся методом локтя -- графическим методом. "
   ]
  },
  {
   "cell_type": "code",
   "execution_count": 45,
   "metadata": {
    "scrolled": true
   },
   "outputs": [
    {
     "data": {
      "image/png": "[encoded data removed]",
      "text/plain": [
       "<Figure size 432x288 with 1 Axes>"
      ]
     },
     "metadata": {
      "needs_background": "light"
     },
     "output_type": "display_data"
    },
    {
     "name": "stdout",
     "output_type": "stream",
     "text": [
      "clusters: 2\n"
     ]
    }
   ],
   "source": [
    "last = Z[-30:, 2] # в матрице связей берем последние 20 значений расстояний между кластерами \n",
    "last_rev = last[::-1] #переписываем в обратном порядке  \n",
    "idxs = np.arange(1, len(last) + 1,1) #генерируем список начальное значение 1, конечное --- число элементов массива, шаг 1\n",
    "plt.xlabel('Число кластеров')\n",
    "plt.ylabel('Расстояние')\n",
    "plt.plot(idxs, last_rev) #отображение графика \n",
    "\n",
    "#далее идет расчет вторых разностей, пример взят из [2]  \n",
    "acceleration = np.diff(last, 2)  # 2nd derivative of the distances\n",
    "acceleration_rev = acceleration[::-1]\n",
    "plt.plot(idxs[:-2] + 1, acceleration_rev)\n",
    "plt.show()\n",
    "k = acceleration_rev.argmax() + 2  # if idx 0 is the max of this we want 2 clusters\n",
    "print(\"clusters:\", k)"
   ]
  },
  {
   "cell_type": "markdown",
   "metadata": {},
   "source": [
    "На данном графике показана зависимость расстояния между кластерами от номера шага итерации, на котором два ближайших кластера объединяются в новый --- синия линия.Оранжевая линия показывает, как меняется ускорение --- быстрота изменения расстояния между объединяемыми кластерами. В данном случае оптимальным числом кластеров может считаться 5."
   ]
  },
  {
   "cell_type": "markdown",
   "metadata": {},
   "source": [
    "Литература\n",
    "1. Маккинли У. Python и анализ данных. - М.: ДМК Пресс, 2015. – 482 с.\n",
    "2. https://joernhees.de/blog/2015/08/26/scipy-hierarchical-clustering-and-dendrogram-tutorial/\n",
    "3. https://docs.scipy.org/doc/scipy/reference/cluster.hierarchy.html\n",
    "\n",
    "Масштабирование признаков http://sebastianraschka.com/Articles/2014_about_feature_scaling.html    \n",
    "Сравнение методов кластеризации https://scikit-learn.org/stable/modules/clustering.html# "
   ]
  },
  {
   "cell_type": "markdown",
   "metadata": {},
   "source": [
    "# Замечания \n",
    "Отредактировать текст с научной предметной лексикой -- линия среза "
   ]
  },
  {
   "cell_type": "markdown",
   "metadata": {},
   "source": [
    "# Черновики"
   ]
  },
  {
   "cell_type": "code",
   "execution_count": null,
   "metadata": {},
   "outputs": [],
   "source": [
    "Z = linkage(X, method='ward') \n",
    "r=plt.figure()\n",
    "dendrogram(Z, \n",
    "#           truncate_mode = 'lastp', #включен режим показывать последние 'p' кластеров  \n",
    "#           p=4,                     #задается параметр 'p' \n",
    "           leaf_rotation = 0,       #угол поворота надписей по оси  \n",
    "           leaf_font_size = 20,     #размер шрифта  \n",
    "           show_contracted = True)\n",
    "r.savefig('2.png', dpi = 300)"
   ]
  },
  {
   "cell_type": "code",
   "execution_count": null,
   "metadata": {},
   "outputs": [],
   "source": [
    "label=fcluster(Z, 2, criterion='distance')"
   ]
  },
  {
   "cell_type": "code",
   "execution_count": null,
   "metadata": {},
   "outputs": [],
   "source": [
    "X.loc[:,'label']=label"
   ]
  },
  {
   "cell_type": "code",
   "execution_count": null,
   "metadata": {},
   "outputs": [],
   "source": []
  },
  {
   "cell_type": "code",
   "execution_count": null,
   "metadata": {},
   "outputs": [],
   "source": [
    "for i, group "
   ]
  },
  {
   "cell_type": "markdown",
   "metadata": {},
   "source": [
    "## 5. Неиерархическая кластеризация: метод k-средних"
   ]
  },
  {
   "cell_type": "code",
   "execution_count": null,
   "metadata": {},
   "outputs": [],
   "source": []
  },
  {
   "cell_type": "code",
   "execution_count": 15,
   "metadata": {},
   "outputs": [],
   "source": [
    "from scipy.cluster.vq import vq, kmeans, whiten, kmeans2"
   ]
  },
  {
   "cell_type": "code",
   "execution_count": null,
   "metadata": {},
   "outputs": [],
   "source": [
    "whitened = whiten(X)\n",
    "codebook, distortion=kmeans(whitened,3)"
   ]
  },
  {
   "cell_type": "code",
   "execution_count": null,
   "metadata": {},
   "outputs": [],
   "source": [
    "centroid, label = kmeans2(X, 3, minit='points')"
   ]
  },
  {
   "cell_type": "code",
   "execution_count": null,
   "metadata": {},
   "outputs": [],
   "source": [
    "label"
   ]
  },
  {
   "cell_type": "code",
   "execution_count": null,
   "metadata": {},
   "outputs": [],
   "source": []
  }
 ],
 "metadata": {
  "kernelspec": {
   "display_name": "Python 3",
   "language": "python",
   "name": "python3"
  },
  "language_info": {
   "codemirror_mode": {
    "name": "ipython",
    "version": 3
   },
   "file_extension": ".py",
   "mimetype": "text/x-python",
   "name": "python",
   "nbconvert_exporter": "python",
   "pygments_lexer": "ipython3",
   "version": "3.7.6"
  }
 },
 "nbformat": 4,
 "nbformat_minor": 2
}
