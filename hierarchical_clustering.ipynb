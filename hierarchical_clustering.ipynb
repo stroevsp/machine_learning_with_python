{
 "cells": [
  {
   "cell_type": "markdown",
   "metadata": {},
   "source": [
    "# Кластеризация: иерархическая кластеризация"
   ]
  },
  {
   "cell_type": "markdown",
   "metadata": {},
   "source": [
    "В данной тетради рассматривается решение задачи кластерного анализа алгоритмами иерархической кластеризации. Показаны возможности библиотек Python непосредственно по решению задачи кластеризации, извлечению нужной структуры кластеров и их графического представления.    \n",
    "Общая схема решения задачи:     \n",
    "1. Чтение исходных данных (формат файла, формат записей, кодировка и т.п.);\n",
    "2. Получение предварительной информации об имеющимся массива (просмотр заголовков, размерность, просмотр части данных, получение информации о типах данных, преобразование типов, поиск пропусков, заполнение пропусков);\n",
    "3. Аккуратные данные (поиск и заполнение пропусков, поиск и удаление дубликатов, формирование итогового набора данных для кластеризации);\n",
    "4. Иерархическая кластеризация: агломеративный алгоритм.\n",
    "\n",
    "\n",
    "Дополнительные источники для изучения указаны в конце настоящей тетради. "
   ]
  },
  {
   "cell_type": "markdown",
   "metadata": {},
   "source": [
    "## 1. Чтение исходных данных\n",
    "\n",
    "Для ознакомления с необходимым материал рекомендую книгу [1, глава 6, стр. 175].     \n",
    "В рассматриваемом примере исходные данные хранятся в txt-файле, разделенные знаком табуляции.    \n",
    "Для чтения воспользуемся функцией `.read_table()`.    \n",
    "В качестве параметров передадим\n",
    "- `path` -- путь к файлу;\n",
    "- `encoding` -- исходную кодировку, в которой хранятся данные;\n",
    "- `sep` -- последовательность символов или регулярное выражение, служащее для разделения полей в строке: ',',';','\\t'(знак табуляции), '\\s+' -- если поля разделены переменным числом пробелов;\n",
    "- `nrows` -- количество читаемых строк от начала файла.\n",
    "\n",
    "Подключаем библиотеку `pandas` и загружаем исходные данные в датафрейм `df`. \n",
    "\n",
    "ВАЖНО: В данном случае с целью упрощения и повышения производительности прочитаны только первых 100 строк исходного массива."
   ]
  },
  {
   "cell_type": "code",
   "execution_count": 1,
   "metadata": {},
   "outputs": [],
   "source": [
    "import pandas as pd\n",
    "pd.set_option('display.precision',3)\n",
    "df=pd.read_table('mobile.txt', encoding='1251', sep='\\t', nrows=100)"
   ]
  },
  {
   "cell_type": "markdown",
   "metadata": {},
   "source": [
    "## 2. Получение предварительной информации об имеющимся массива   \n",
    "\n",
    "Для получения предварительной информации об анализируемом массиве можно воспользоваться следующими возможностями Python    \n",
    "- Просмотр с помощью свойства `.head()` указанного числа первых строк датафрейма. По умолчанию выводится 5 первых строк датафрейма;\n",
    "- Размерность датафрейма можно узнать с помощью свойства .shape;\n",
    "- Просмотр заголовков столбов с помощью свойства .columns;\n",
    "- Просмотр информации о типах переменных с помощью свойства `.info()`"
   ]
  },
  {
   "cell_type": "code",
   "execution_count": 2,
   "metadata": {},
   "outputs": [
    {
     "data": {
      "text/html": [
       "<div>\n",
       "<style scoped>\n",
       "    .dataframe tbody tr th:only-of-type {\n",
       "        vertical-align: middle;\n",
       "    }\n",
       "\n",
       "    .dataframe tbody tr th {\n",
       "        vertical-align: top;\n",
       "    }\n",
       "\n",
       "    .dataframe thead th {\n",
       "        text-align: right;\n",
       "    }\n",
       "</style>\n",
       "<table border=\"1\" class=\"dataframe\">\n",
       "  <thead>\n",
       "    <tr style=\"text-align: right;\">\n",
       "      <th></th>\n",
       "      <th>Код</th>\n",
       "      <th>Возраст</th>\n",
       "      <th>Среднемесячный расход</th>\n",
       "      <th>Средняя продолжительность разговоров</th>\n",
       "      <th>Звонков днем за месяц</th>\n",
       "      <th>Звонков вечером за месяц</th>\n",
       "      <th>Звонков ночью за месяц</th>\n",
       "      <th>Звонки в другие города</th>\n",
       "      <th>Звонки в другие страны</th>\n",
       "      <th>Доля звонков на стационарные телефоны</th>\n",
       "      <th>Количество SMS за месяц</th>\n",
       "    </tr>\n",
       "  </thead>\n",
       "  <tbody>\n",
       "    <tr>\n",
       "      <th>0</th>\n",
       "      <td>0</td>\n",
       "      <td>24</td>\n",
       "      <td>121.54</td>\n",
       "      <td>2.4</td>\n",
       "      <td>12</td>\n",
       "      <td>65</td>\n",
       "      <td>5</td>\n",
       "      <td>0</td>\n",
       "      <td>0</td>\n",
       "      <td>5</td>\n",
       "      <td>56</td>\n",
       "    </tr>\n",
       "    <tr>\n",
       "      <th>1</th>\n",
       "      <td>1</td>\n",
       "      <td>51</td>\n",
       "      <td>287.51</td>\n",
       "      <td>1.7</td>\n",
       "      <td>111</td>\n",
       "      <td>109</td>\n",
       "      <td>1</td>\n",
       "      <td>44</td>\n",
       "      <td>0</td>\n",
       "      <td>6</td>\n",
       "      <td>1</td>\n",
       "    </tr>\n",
       "    <tr>\n",
       "      <th>2</th>\n",
       "      <td>2</td>\n",
       "      <td>41</td>\n",
       "      <td>113.70</td>\n",
       "      <td>2.1</td>\n",
       "      <td>41</td>\n",
       "      <td>27</td>\n",
       "      <td>0</td>\n",
       "      <td>0</td>\n",
       "      <td>0</td>\n",
       "      <td>1</td>\n",
       "      <td>36</td>\n",
       "    </tr>\n",
       "    <tr>\n",
       "      <th>3</th>\n",
       "      <td>3</td>\n",
       "      <td>35</td>\n",
       "      <td>410.23</td>\n",
       "      <td>5.6</td>\n",
       "      <td>47</td>\n",
       "      <td>49</td>\n",
       "      <td>0</td>\n",
       "      <td>0</td>\n",
       "      <td>0</td>\n",
       "      <td>11</td>\n",
       "      <td>23</td>\n",
       "    </tr>\n",
       "    <tr>\n",
       "      <th>4</th>\n",
       "      <td>4</td>\n",
       "      <td>26</td>\n",
       "      <td>537.60</td>\n",
       "      <td>4.8</td>\n",
       "      <td>58</td>\n",
       "      <td>77</td>\n",
       "      <td>4</td>\n",
       "      <td>0</td>\n",
       "      <td>0</td>\n",
       "      <td>16</td>\n",
       "      <td>29</td>\n",
       "    </tr>\n",
       "  </tbody>\n",
       "</table>\n",
       "</div>"
      ],
      "text/plain": [
       "   Код  Возраст  Среднемесячный расход  Средняя продолжительность разговоров  \\\n",
       "0    0       24                 121.54                                   2.4   \n",
       "1    1       51                 287.51                                   1.7   \n",
       "2    2       41                 113.70                                   2.1   \n",
       "3    3       35                 410.23                                   5.6   \n",
       "4    4       26                 537.60                                   4.8   \n",
       "\n",
       "   Звонков днем за месяц  Звонков вечером за месяц  Звонков ночью за месяц  \\\n",
       "0                     12                        65                       5   \n",
       "1                    111                       109                       1   \n",
       "2                     41                        27                       0   \n",
       "3                     47                        49                       0   \n",
       "4                     58                        77                       4   \n",
       "\n",
       "   Звонки в другие города  Звонки в другие страны  \\\n",
       "0                       0                       0   \n",
       "1                      44                       0   \n",
       "2                       0                       0   \n",
       "3                       0                       0   \n",
       "4                       0                       0   \n",
       "\n",
       "   Доля звонков на стационарные телефоны  Количество SMS за месяц  \n",
       "0                                      5                       56  \n",
       "1                                      6                        1  \n",
       "2                                      1                       36  \n",
       "3                                     11                       23  \n",
       "4                                     16                       29  "
      ]
     },
     "execution_count": 2,
     "metadata": {},
     "output_type": "execute_result"
    }
   ],
   "source": [
    "df.head()"
   ]
  },
  {
   "cell_type": "code",
   "execution_count": 3,
   "metadata": {},
   "outputs": [
    {
     "data": {
      "text/html": [
       "<div>\n",
       "<style scoped>\n",
       "    .dataframe tbody tr th:only-of-type {\n",
       "        vertical-align: middle;\n",
       "    }\n",
       "\n",
       "    .dataframe tbody tr th {\n",
       "        vertical-align: top;\n",
       "    }\n",
       "\n",
       "    .dataframe thead th {\n",
       "        text-align: right;\n",
       "    }\n",
       "</style>\n",
       "<table border=\"1\" class=\"dataframe\">\n",
       "  <thead>\n",
       "    <tr style=\"text-align: right;\">\n",
       "      <th></th>\n",
       "      <th>Возраст</th>\n",
       "      <th>Средняя продолжительность разговоров</th>\n",
       "      <th>Звонков вечером за месяц</th>\n",
       "    </tr>\n",
       "  </thead>\n",
       "  <tbody>\n",
       "    <tr>\n",
       "      <th>0</th>\n",
       "      <td>24</td>\n",
       "      <td>2.4</td>\n",
       "      <td>65</td>\n",
       "    </tr>\n",
       "    <tr>\n",
       "      <th>1</th>\n",
       "      <td>51</td>\n",
       "      <td>1.7</td>\n",
       "      <td>109</td>\n",
       "    </tr>\n",
       "    <tr>\n",
       "      <th>2</th>\n",
       "      <td>41</td>\n",
       "      <td>2.1</td>\n",
       "      <td>27</td>\n",
       "    </tr>\n",
       "    <tr>\n",
       "      <th>3</th>\n",
       "      <td>35</td>\n",
       "      <td>5.6</td>\n",
       "      <td>49</td>\n",
       "    </tr>\n",
       "    <tr>\n",
       "      <th>4</th>\n",
       "      <td>26</td>\n",
       "      <td>4.8</td>\n",
       "      <td>77</td>\n",
       "    </tr>\n",
       "    <tr>\n",
       "      <th>...</th>\n",
       "      <td>...</td>\n",
       "      <td>...</td>\n",
       "      <td>...</td>\n",
       "    </tr>\n",
       "    <tr>\n",
       "      <th>95</th>\n",
       "      <td>29</td>\n",
       "      <td>18.2</td>\n",
       "      <td>78</td>\n",
       "    </tr>\n",
       "    <tr>\n",
       "      <th>96</th>\n",
       "      <td>54</td>\n",
       "      <td>1.1</td>\n",
       "      <td>68</td>\n",
       "    </tr>\n",
       "    <tr>\n",
       "      <th>97</th>\n",
       "      <td>25</td>\n",
       "      <td>3.7</td>\n",
       "      <td>45</td>\n",
       "    </tr>\n",
       "    <tr>\n",
       "      <th>98</th>\n",
       "      <td>54</td>\n",
       "      <td>2.8</td>\n",
       "      <td>98</td>\n",
       "    </tr>\n",
       "    <tr>\n",
       "      <th>99</th>\n",
       "      <td>47</td>\n",
       "      <td>3.8</td>\n",
       "      <td>126</td>\n",
       "    </tr>\n",
       "  </tbody>\n",
       "</table>\n",
       "<p>100 rows × 3 columns</p>\n",
       "</div>"
      ],
      "text/plain": [
       "    Возраст  Средняя продолжительность разговоров  Звонков вечером за месяц\n",
       "0        24                                   2.4                        65\n",
       "1        51                                   1.7                       109\n",
       "2        41                                   2.1                        27\n",
       "3        35                                   5.6                        49\n",
       "4        26                                   4.8                        77\n",
       "..      ...                                   ...                       ...\n",
       "95       29                                  18.2                        78\n",
       "96       54                                   1.1                        68\n",
       "97       25                                   3.7                        45\n",
       "98       54                                   2.8                        98\n",
       "99       47                                   3.8                       126\n",
       "\n",
       "[100 rows x 3 columns]"
      ]
     },
     "execution_count": 3,
     "metadata": {},
     "output_type": "execute_result"
    }
   ],
   "source": [
    "df.iloc[:,1:6:2]"
   ]
  },
  {
   "cell_type": "markdown",
   "metadata": {},
   "source": [
    "ДОПОЛНИТЕЛЬНАЯ ИНФОРМАЦИЯ: С помощью свойства `.tail()` можно просмотреть заданное число последних строк массива. По умолчанию выводится 5 строк "
   ]
  },
  {
   "cell_type": "markdown",
   "metadata": {},
   "source": [
    "+ Размерность датафрейма можно узнать с помощью свойства `.shape`    \n",
    "ДОПОЛНИТЕЛЬНАЯ ИНФОРМАЦИЯ: количество строк датафрейма можно узнать с помощью метода `len()`"
   ]
  },
  {
   "cell_type": "code",
   "execution_count": 4,
   "metadata": {},
   "outputs": [
    {
     "data": {
      "text/plain": [
       "(100, 11)"
      ]
     },
     "execution_count": 4,
     "metadata": {},
     "output_type": "execute_result"
    }
   ],
   "source": [
    "df.shape"
   ]
  },
  {
   "cell_type": "markdown",
   "metadata": {},
   "source": [
    "+ Просмотр заголовков столбов с помощью свойства `.columns` "
   ]
  },
  {
   "cell_type": "code",
   "execution_count": 5,
   "metadata": {},
   "outputs": [
    {
     "data": {
      "text/plain": [
       "Index(['Код', 'Возраст', 'Среднемесячный расход',\n",
       "       'Средняя продолжительность разговоров', 'Звонков днем за месяц',\n",
       "       'Звонков вечером за месяц', 'Звонков ночью за месяц',\n",
       "       'Звонки в другие города', 'Звонки в другие страны',\n",
       "       'Доля звонков на стационарные телефоны', 'Количество SMS за месяц'],\n",
       "      dtype='object')"
      ]
     },
     "execution_count": 5,
     "metadata": {},
     "output_type": "execute_result"
    }
   ],
   "source": [
    "df.columns"
   ]
  },
  {
   "cell_type": "markdown",
   "metadata": {},
   "source": [
    "## 3. Аккуратные данные\n",
    "\n",
    "Аккуратные данные --- данные, пригодные для дальнейшего анализа. Для получения аккуратных данных необходимо разрешить следующие проблемы, связанные с имеющимися данными (список может быть расширен):     \n",
    "- имена объектов или признаков отличаются от желаемых (требуемых);  \n",
    "- есть пропущенные данные;\n",
    "- значения указаны не в тех единицах измерения, которые требуются;\n",
    "- временной период выборки наблюдений не тот;\n",
    "- переменные являются категориальными, а требуются количественные;\n",
    "- присутсвует шум в данных;\n",
    "- информация неверного типа;\n",
    "- данные неправильно ориентированы по осям;\n",
    "- данные неправильно нормализованы;\n",
    "- данные дублизуются."
   ]
  },
  {
   "cell_type": "markdown",
   "metadata": {},
   "source": [
    "## 3.1 Поиск и импутация пропущенных наблюдений\n",
    "- Вывод общей информации о наличие пропусков во всех переменных можно осуществить, воспользовавшись цепочкой методов `.isnull()` и `.sum()`"
   ]
  },
  {
   "cell_type": "code",
   "execution_count": 6,
   "metadata": {
    "scrolled": true
   },
   "outputs": [
    {
     "data": {
      "text/plain": [
       "Код                                      0\n",
       "Возраст                                  0\n",
       "Среднемесячный расход                    0\n",
       "Средняя продолжительность разговоров     0\n",
       "Звонков днем за месяц                    0\n",
       "Звонков вечером за месяц                 0\n",
       "Звонков ночью за месяц                   0\n",
       "Звонки в другие города                   0\n",
       "Звонки в другие страны                   0\n",
       "Доля звонков на стационарные телефоны    0\n",
       "Количество SMS за месяц                  0\n",
       "dtype: int64"
      ]
     },
     "execution_count": 6,
     "metadata": {},
     "output_type": "execute_result"
    }
   ],
   "source": [
    "df.isnull().sum()"
   ]
  },
  {
   "cell_type": "markdown",
   "metadata": {},
   "source": [
    "## 3.2 Типы признаков\n",
    "\n",
    "Для просмотра информации о типах наблюдаемых признаков у объектов воспользуемся свойством `.info()`"
   ]
  },
  {
   "cell_type": "code",
   "execution_count": 7,
   "metadata": {},
   "outputs": [
    {
     "name": "stdout",
     "output_type": "stream",
     "text": [
      "<class 'pandas.core.frame.DataFrame'>\n",
      "RangeIndex: 100 entries, 0 to 99\n",
      "Data columns (total 11 columns):\n",
      "Код                                      100 non-null int64\n",
      "Возраст                                  100 non-null int64\n",
      "Среднемесячный расход                    100 non-null float64\n",
      "Средняя продолжительность разговоров     100 non-null float64\n",
      "Звонков днем за месяц                    100 non-null int64\n",
      "Звонков вечером за месяц                 100 non-null int64\n",
      "Звонков ночью за месяц                   100 non-null int64\n",
      "Звонки в другие города                   100 non-null int64\n",
      "Звонки в другие страны                   100 non-null int64\n",
      "Доля звонков на стационарные телефоны    100 non-null int64\n",
      "Количество SMS за месяц                  100 non-null int64\n",
      "dtypes: float64(2), int64(9)\n",
      "memory usage: 8.7 KB\n"
     ]
    }
   ],
   "source": [
    "df.info()"
   ]
  },
  {
   "cell_type": "markdown",
   "metadata": {},
   "source": [
    "## 3.3 Генерирование входного массива и нормализация признаков "
   ]
  },
  {
   "cell_type": "code",
   "execution_count": 8,
   "metadata": {},
   "outputs": [],
   "source": [
    "X=df.iloc[:,:].values\n",
    "X=(X-X.mean(axis=0))/X.std(axis=0)\n",
    "#print(X.mean(axis=0)) #просмотр массива выборочных средних -- они должны быть равны 0 \n",
    "#print(X.std(axis=0)) # просмотр массива стандартных отклонений --- они должны быть равными 1\n",
    "#print(X) # просмотр входного массива --- аккуратные данные!!!!"
   ]
  },
  {
   "cell_type": "markdown",
   "metadata": {},
   "source": [
    "## 4. Иерархическая кластеризация: агломеративный алгоритм  \n",
    "\n",
    "Для изучания материала рекомендуется воспользоваться ресурсом [2]    \n",
    "Иерархическая кластеризация реализована в модуле `scipy.cluster.hierarchy`.    \n",
    "Импортируем из этого модуля методы:    \n",
    "- `.linkage()` -- выполняет иерархическую (агломеративную) кластеризацию; \n",
    "- `.fcluster()` -- \n",
    "- `.dendrogram()` -- строит дендрограмму.  \n",
    "\n",
    "Метод `.linkage()` имеет следующую спецификацию `linkage(y[, method, metric, optimal_ordering])`:    \n",
    "- y -- матрица попарных расстояний или исходных данных (в матрице не должно быть пробелов или категориальных значений)\n",
    "- method -- правило, по которому будут рассчитываться расстояния между кластерами:    \n",
    "    - `single`\n",
    "    - `complete`\n",
    "    - `average`\n",
    "    - `weighted`\n",
    "    - `centroid`\n",
    "    - `median`\n",
    "    - `ward`\n",
    "- metric -- метрика: `braycurtis`, `canberra`, `chebyshev`, `cityblock`, `correlation`, `cosine`, `dice`, `euclidean`, `hamming`, `jaccard`, `jensenshannon`, `kulsinski`, `mahalanobis`, `matching`, `minkowsk`, `rogerstanimoto`, `russellrao`, `seuclidean`, `sokalmichener`, `sokalsneath`, `sqeuclidean`, `yule`."
   ]
  },
  {
   "cell_type": "code",
   "execution_count": 11,
   "metadata": {},
   "outputs": [],
   "source": [
    "from scipy.cluster.hierarchy import linkage, dendrogram, fcluster\n",
    "import matplotlib.pyplot as plt\n",
    "import numpy as np"
   ]
  },
  {
   "cell_type": "code",
   "execution_count": 12,
   "metadata": {},
   "outputs": [
    {
     "data": {
      "image/png": "[encoded data removed]",
      "text/plain": [
       "<Figure size 432x288 with 1 Axes>"
      ]
     },
     "metadata": {
      "needs_background": "light"
     },
     "output_type": "display_data"
    }
   ],
   "source": [
    "mergings = linkage(X, method='ward') #complete, single\n",
    "r=plt.figure()\n",
    "dendrogram(mergings)\n",
    "r.savefig('1.png', dpi = 300)"
   ]
  },
  {
   "cell_type": "code",
   "execution_count": 13,
   "metadata": {},
   "outputs": [
    {
     "name": "stdout",
     "output_type": "stream",
     "text": [
      "[[ 47.          50.           0.4064717    2.        ]\n",
      " [ 46.          51.           0.57310023   2.        ]\n",
      " [ 82.          90.           0.6078101    2.        ]\n",
      " [100.         101.           0.60829392   4.        ]\n",
      " [ 70.         102.           0.7341558    3.        ]\n",
      " [ 62.          68.           0.74577465   2.        ]\n",
      " [ 66.          77.           0.79800266   2.        ]\n",
      " [ 76.         106.           0.89208984   3.        ]\n",
      " [ 19.          20.           0.9228828    2.        ]\n",
      " [ 21.          22.           0.92367274   2.        ]\n",
      " [ 89.          98.           1.01020099   2.        ]\n",
      " [ 34.          44.           1.02297361   2.        ]\n",
      " [ 24.          43.           1.0234665    2.        ]\n",
      " [ 41.          61.           1.0512902    2.        ]\n",
      " [  3.          12.           1.05601407   2.        ]\n",
      " [ 29.          36.           1.05631448   2.        ]\n",
      " [  8.          25.           1.1240306    2.        ]\n",
      " [  7.          15.           1.12867273   2.        ]\n",
      " [ 32.         116.           1.23280948   3.        ]\n",
      " [ 81.          93.           1.23622854   2.        ]\n",
      " [ 67.         113.           1.29462386   3.        ]\n",
      " [ 35.          45.           1.33143277   2.        ]\n",
      " [ 31.          59.           1.3486132    2.        ]\n",
      " [  4.         109.           1.36129871   3.        ]\n",
      " [  5.          27.           1.39449622   2.        ]\n",
      " [ 65.          86.           1.42508682   2.        ]\n",
      " [ 38.         112.           1.48756457   3.        ]\n",
      " [ 56.          78.           1.52692307   2.        ]\n",
      " [ 85.          96.           1.54965586   2.        ]\n",
      " [ 52.         125.           1.55160538   3.        ]\n",
      " [  9.          30.           1.55218712   2.        ]\n",
      " [108.         117.           1.55400697   4.        ]\n",
      " [ 99.         110.           1.64615952   3.        ]\n",
      " [ 14.          17.           1.67582907   2.        ]\n",
      " [ 49.          64.           1.67678723   2.        ]\n",
      " [ 18.         121.           1.69193706   3.        ]\n",
      " [ 87.         104.           1.69846894   4.        ]\n",
      " [103.         107.           1.71782048   7.        ]\n",
      " [  0.         118.           1.7387961    4.        ]\n",
      " [ 69.          74.           1.78450667   2.        ]\n",
      " [ 80.          84.           1.80238531   2.        ]\n",
      " [ 55.         105.           1.83117205   3.        ]\n",
      " [ 63.         111.           1.88464988   3.        ]\n",
      " [119.         132.           2.04719942   5.        ]\n",
      " [127.         140.           2.04830563   4.        ]\n",
      " [  2.         130.           2.09502226   3.        ]\n",
      " [ 11.          40.           2.12197289   2.        ]\n",
      " [ 33.         114.           2.12531613   3.        ]\n",
      " [ 42.         139.           2.1274678    3.        ]\n",
      " [ 39.         148.           2.15384096   4.        ]\n",
      " [  6.          26.           2.16895807   2.        ]\n",
      " [ 60.         129.           2.21318887   4.        ]\n",
      " [ 48.         115.           2.22398348   3.        ]\n",
      " [120.         126.           2.33165337   6.        ]\n",
      " [ 54.          91.           2.34700645   2.        ]\n",
      " [ 28.         135.           2.44315517   4.        ]\n",
      " [ 13.         122.           2.47657867   3.        ]\n",
      " [ 58.         146.           2.53259049   3.        ]\n",
      " [ 92.         144.           2.59937218   5.        ]\n",
      " [ 79.          94.           2.63207022   2.        ]\n",
      " [ 71.          97.           2.7202079    2.        ]\n",
      " [123.         145.           2.84454382   6.        ]\n",
      " [124.         133.           2.85404169   4.        ]\n",
      " [ 16.         155.           2.90253981   5.        ]\n",
      " [142.         151.           2.94725833   7.        ]\n",
      " [134.         156.           2.98053649   5.        ]\n",
      " [147.         161.           3.00436857   9.        ]\n",
      " [128.         143.           3.04593769   7.        ]\n",
      " [  1.         163.           3.1199527    6.        ]\n",
      " [153.         164.           3.14530172  13.        ]\n",
      " [154.         159.           3.23247535   4.        ]\n",
      " [ 37.          73.           3.30394742   2.        ]\n",
      " [131.         137.           3.54775763  11.        ]\n",
      " [138.         157.           3.58947761   7.        ]\n",
      " [ 75.         149.           3.6363769    5.        ]\n",
      " [141.         150.           3.79206195   5.        ]\n",
      " [ 53.          95.           4.00247559   2.        ]\n",
      " [162.         165.           4.04731238   9.        ]\n",
      " [158.         160.           4.13524248   7.        ]\n",
      " [171.         175.           4.42889239   7.        ]\n",
      " [152.         174.           4.7061115    8.        ]\n",
      " [136.         172.           4.92904475  15.        ]\n",
      " [170.         178.           5.22173181  11.        ]\n",
      " [166.         173.           5.47612526  16.        ]\n",
      " [ 57.          72.           5.60399334   2.        ]\n",
      " [167.         169.           5.62030476  20.        ]\n",
      " [177.         183.           5.84955612  25.        ]\n",
      " [ 23.          88.           6.13878048   2.        ]\n",
      " [ 10.         184.           6.22118427   3.        ]\n",
      " [ 83.         176.           6.32441721   3.        ]\n",
      " [168.         180.           6.82321956  14.        ]\n",
      " [179.         185.           7.74288569  27.        ]\n",
      " [190.         191.           8.05530284  41.        ]\n",
      " [182.         186.           8.76087832  36.        ]\n",
      " [187.         188.           9.12601225   5.        ]\n",
      " [181.         192.          12.35005701  56.        ]\n",
      " [189.         194.          12.80277087   8.        ]\n",
      " [193.         195.          15.27459432  92.        ]\n",
      " [196.         197.          24.60868826 100.        ]]\n"
     ]
    }
   ],
   "source": [
    "pd.set_option('display.precision',3)\n",
    "print(mergings)"
   ]
  },
  {
   "cell_type": "markdown",
   "metadata": {},
   "source": [
    "Литература\n",
    "1. Маккинли У. Python и анализ данных. - М.: ДМК Пресс, 2015. – 482 с.\n",
    "2. https://joernhees.de/blog/2015/08/26/scipy-hierarchical-clustering-and-dendrogram-tutorial/\n",
    "3. https://docs.scipy.org/doc/scipy/reference/cluster.hierarchy.html"
   ]
  },
  {
   "cell_type": "code",
   "execution_count": null,
   "metadata": {},
   "outputs": [],
   "source": []
  }
 ],
 "metadata": {
  "kernelspec": {
   "display_name": "Python 3",
   "language": "python",
   "name": "python3"
  },
  "language_info": {
   "codemirror_mode": {
    "name": "ipython",
    "version": 3
   },
   "file_extension": ".py",
   "mimetype": "text/x-python",
   "name": "python",
   "nbconvert_exporter": "python",
   "pygments_lexer": "ipython3",
   "version": "3.7.6"
  }
 },
 "nbformat": 4,
 "nbformat_minor": 2
}
