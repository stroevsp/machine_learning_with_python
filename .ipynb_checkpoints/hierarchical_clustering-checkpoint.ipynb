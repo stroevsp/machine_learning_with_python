{
 "cells": [
  {
   "cell_type": "markdown",
   "metadata": {},
   "source": [
    "# Задача сегментации: кластеризация"
   ]
  },
  {
   "cell_type": "markdown",
   "metadata": {},
   "source": [
    "В данной тетради рассматривается решение задачи сегментации клиентской базы методами кластерного анализа, в частности  алгоритмами иерархической кластеризации. Показаны возможности библиотек Python непосредственно по решению задачи кластеризации, извлечению нужной структуры кластеров и их графического представления.    \n",
    "Общая схема решения задачи:     \n",
    "1. Предварительный анализ структуры выборки (чтение из файла, размерность, просто заголовков, просмотр части данных, получение информации о типах данных, преобразование типов, поиск пропусков, заполнение пропусков, стандартизация данных);\n",
    "2. Кластеризация: алгоритмы иерархической кластеризации, алгоритм k-средних;\n",
    "3. Анализ результатов кластеризации.\n",
    "\n",
    "В татради также приводятся сслыки на используемые источники. "
   ]
  },
  {
   "cell_type": "markdown",
   "metadata": {},
   "source": [
    "# 1. Структура исходных данных"
   ]
  },
  {
   "cell_type": "markdown",
   "metadata": {},
   "source": [
    "## 1.1. Чтение исходных данных\n",
    "\n",
    "Для ознакомления с необходимым материал рекомендую книгу [1, глава 6, стр. 175].     \n",
    "В рассматриваемом примере исходные данные хранятся в txt-файле, разделенные знаком табуляции.    \n",
    "Для чтения воспользуемся функцией `.read_table()`.    \n",
    "В качестве параметров передадим\n",
    "- `path` -- путь к файлу;\n",
    "- `encoding` -- исходную кодировку, в которой хранятся данные;\n",
    "- `sep` -- последовательность символов или регулярное выражение, служащее для разделения полей в строке: ',',';','\\t'(знак табуляции), '\\s+' -- если поля разделены переменным числом пробелов;\n",
    "- `nrows` -- количество читаемых строк от начала файла.\n",
    "\n",
    "Подключаем библиотеку `pandas` и загружаем исходные данные в датафрейм `df`. \n",
    "\n",
    "ВАЖНО: В данном случае с целью упрощения и повышения производительности прочитаны только первых 100 строк исходного массива."
   ]
  },
  {
   "cell_type": "code",
   "execution_count": 74,
   "metadata": {},
   "outputs": [],
   "source": [
    "import pandas as pd\n",
    "pd.set_option('display.precision',3)\n",
    "df=pd.read_table('mobile.txt', encoding='1251', sep='\\t', nrows=4000)"
   ]
  },
  {
   "cell_type": "markdown",
   "metadata": {},
   "source": [
    "## 1.2. Получение предварительной информации о массиве   \n",
    "\n",
    "Для получения предварительной информации об анализируемом массиве можно воспользоваться следующими возможностями Python    \n",
    "- Просмотр с помощью свойства `.head()` указанного числа первых строк датафрейма. По умолчанию выводится 5 первых строк датафрейма;\n",
    "- Размерность датафрейма можно узнать с помощью свойства .shape;\n",
    "- Просмотр заголовков столбов с помощью свойства .columns;\n",
    "- Просмотр информации о типах переменных с помощью свойства `.info()`"
   ]
  },
  {
   "cell_type": "code",
   "execution_count": 75,
   "metadata": {},
   "outputs": [
    {
     "data": {
      "text/html": [
       "<div>\n",
       "<style scoped>\n",
       "    .dataframe tbody tr th:only-of-type {\n",
       "        vertical-align: middle;\n",
       "    }\n",
       "\n",
       "    .dataframe tbody tr th {\n",
       "        vertical-align: top;\n",
       "    }\n",
       "\n",
       "    .dataframe thead th {\n",
       "        text-align: right;\n",
       "    }\n",
       "</style>\n",
       "<table border=\"1\" class=\"dataframe\">\n",
       "  <thead>\n",
       "    <tr style=\"text-align: right;\">\n",
       "      <th></th>\n",
       "      <th>Код</th>\n",
       "      <th>Возраст</th>\n",
       "      <th>Среднемесячный расход</th>\n",
       "      <th>Средняя продолжительность разговоров</th>\n",
       "      <th>Звонков днем за месяц</th>\n",
       "      <th>Звонков вечером за месяц</th>\n",
       "      <th>Звонков ночью за месяц</th>\n",
       "      <th>Звонки в другие города</th>\n",
       "      <th>Звонки в другие страны</th>\n",
       "      <th>Доля звонков на стационарные телефоны</th>\n",
       "      <th>Количество SMS за месяц</th>\n",
       "    </tr>\n",
       "  </thead>\n",
       "  <tbody>\n",
       "    <tr>\n",
       "      <th>0</th>\n",
       "      <td>0</td>\n",
       "      <td>24</td>\n",
       "      <td>121.54</td>\n",
       "      <td>2.4</td>\n",
       "      <td>12</td>\n",
       "      <td>65</td>\n",
       "      <td>5</td>\n",
       "      <td>0</td>\n",
       "      <td>0</td>\n",
       "      <td>5</td>\n",
       "      <td>56</td>\n",
       "    </tr>\n",
       "    <tr>\n",
       "      <th>1</th>\n",
       "      <td>1</td>\n",
       "      <td>51</td>\n",
       "      <td>287.51</td>\n",
       "      <td>1.7</td>\n",
       "      <td>111</td>\n",
       "      <td>109</td>\n",
       "      <td>1</td>\n",
       "      <td>44</td>\n",
       "      <td>0</td>\n",
       "      <td>6</td>\n",
       "      <td>1</td>\n",
       "    </tr>\n",
       "    <tr>\n",
       "      <th>2</th>\n",
       "      <td>2</td>\n",
       "      <td>41</td>\n",
       "      <td>113.70</td>\n",
       "      <td>2.1</td>\n",
       "      <td>41</td>\n",
       "      <td>27</td>\n",
       "      <td>0</td>\n",
       "      <td>0</td>\n",
       "      <td>0</td>\n",
       "      <td>1</td>\n",
       "      <td>36</td>\n",
       "    </tr>\n",
       "    <tr>\n",
       "      <th>3</th>\n",
       "      <td>3</td>\n",
       "      <td>35</td>\n",
       "      <td>410.23</td>\n",
       "      <td>5.6</td>\n",
       "      <td>47</td>\n",
       "      <td>49</td>\n",
       "      <td>0</td>\n",
       "      <td>0</td>\n",
       "      <td>0</td>\n",
       "      <td>11</td>\n",
       "      <td>23</td>\n",
       "    </tr>\n",
       "    <tr>\n",
       "      <th>4</th>\n",
       "      <td>4</td>\n",
       "      <td>26</td>\n",
       "      <td>537.60</td>\n",
       "      <td>4.8</td>\n",
       "      <td>58</td>\n",
       "      <td>77</td>\n",
       "      <td>4</td>\n",
       "      <td>0</td>\n",
       "      <td>0</td>\n",
       "      <td>16</td>\n",
       "      <td>29</td>\n",
       "    </tr>\n",
       "  </tbody>\n",
       "</table>\n",
       "</div>"
      ],
      "text/plain": [
       "   Код  Возраст  Среднемесячный расход  Средняя продолжительность разговоров  \\\n",
       "0    0       24                 121.54                                   2.4   \n",
       "1    1       51                 287.51                                   1.7   \n",
       "2    2       41                 113.70                                   2.1   \n",
       "3    3       35                 410.23                                   5.6   \n",
       "4    4       26                 537.60                                   4.8   \n",
       "\n",
       "   Звонков днем за месяц  Звонков вечером за месяц  Звонков ночью за месяц  \\\n",
       "0                     12                        65                       5   \n",
       "1                    111                       109                       1   \n",
       "2                     41                        27                       0   \n",
       "3                     47                        49                       0   \n",
       "4                     58                        77                       4   \n",
       "\n",
       "   Звонки в другие города  Звонки в другие страны  \\\n",
       "0                       0                       0   \n",
       "1                      44                       0   \n",
       "2                       0                       0   \n",
       "3                       0                       0   \n",
       "4                       0                       0   \n",
       "\n",
       "   Доля звонков на стационарные телефоны  Количество SMS за месяц  \n",
       "0                                      5                       56  \n",
       "1                                      6                        1  \n",
       "2                                      1                       36  \n",
       "3                                     11                       23  \n",
       "4                                     16                       29  "
      ]
     },
     "execution_count": 75,
     "metadata": {},
     "output_type": "execute_result"
    }
   ],
   "source": [
    "df.head()"
   ]
  },
  {
   "cell_type": "markdown",
   "metadata": {},
   "source": [
    "ДОПОЛНИТЕЛЬНАЯ ИНФОРМАЦИЯ: С помощью свойства `.tail()` можно просмотреть заданное число последних строк массива. По умолчанию выводится 5 строк "
   ]
  },
  {
   "cell_type": "markdown",
   "metadata": {},
   "source": [
    "+ Размерность датафрейма можно узнать с помощью свойства `.shape`    \n",
    "ДОПОЛНИТЕЛЬНАЯ ИНФОРМАЦИЯ: количество строк датафрейма можно узнать с помощью метода `len()`"
   ]
  },
  {
   "cell_type": "code",
   "execution_count": 76,
   "metadata": {},
   "outputs": [
    {
     "data": {
      "text/plain": [
       "(4000, 11)"
      ]
     },
     "execution_count": 76,
     "metadata": {},
     "output_type": "execute_result"
    }
   ],
   "source": [
    "df.shape"
   ]
  },
  {
   "cell_type": "markdown",
   "metadata": {},
   "source": [
    "+ Просмотр заголовков столбов с помощью свойства `.columns` "
   ]
  },
  {
   "cell_type": "code",
   "execution_count": 77,
   "metadata": {},
   "outputs": [
    {
     "data": {
      "text/plain": [
       "Index(['Код', 'Возраст', 'Среднемесячный расход',\n",
       "       'Средняя продолжительность разговоров', 'Звонков днем за месяц',\n",
       "       'Звонков вечером за месяц', 'Звонков ночью за месяц',\n",
       "       'Звонки в другие города', 'Звонки в другие страны',\n",
       "       'Доля звонков на стационарные телефоны', 'Количество SMS за месяц'],\n",
       "      dtype='object')"
      ]
     },
     "execution_count": 77,
     "metadata": {},
     "output_type": "execute_result"
    }
   ],
   "source": [
    "df.columns"
   ]
  },
  {
   "cell_type": "markdown",
   "metadata": {},
   "source": [
    "## 1.3. Аккуратные данные\n",
    "\n",
    "Аккуратные данные --- данные, пригодные для дальнейшего анализа. Для получения аккуратных данных необходимо разрешить следующие проблемы, связанные с имеющимися данными (список может быть расширен):     \n",
    "- имена объектов или признаков отличаются от желаемых (требуемых);  \n",
    "- есть пропущенные данные;\n",
    "- значения указаны не в тех единицах измерения, которые требуются;\n",
    "- временной период выборки наблюдений не тот;\n",
    "- переменные являются категориальными, а требуются количественные;\n",
    "- присутсвует шум в данных;\n",
    "- информация неверного типа;\n",
    "- данные неправильно ориентированы по осям;\n",
    "- данные неправильно нормализованы;\n",
    "- данные дублизуются."
   ]
  },
  {
   "cell_type": "markdown",
   "metadata": {},
   "source": [
    "## 1.3.1 Поиск и импутация пропущенных наблюдений\n",
    "- Вывод общей информации о наличие пропусков во всех переменных можно осуществить, воспользовавшись цепочкой методов `.isnull()` и `.sum()`"
   ]
  },
  {
   "cell_type": "code",
   "execution_count": 78,
   "metadata": {
    "scrolled": true
   },
   "outputs": [
    {
     "data": {
      "text/plain": [
       "Код                                      0\n",
       "Возраст                                  0\n",
       "Среднемесячный расход                    0\n",
       "Средняя продолжительность разговоров     0\n",
       "Звонков днем за месяц                    0\n",
       "Звонков вечером за месяц                 0\n",
       "Звонков ночью за месяц                   0\n",
       "Звонки в другие города                   0\n",
       "Звонки в другие страны                   0\n",
       "Доля звонков на стационарные телефоны    0\n",
       "Количество SMS за месяц                  0\n",
       "dtype: int64"
      ]
     },
     "execution_count": 78,
     "metadata": {},
     "output_type": "execute_result"
    }
   ],
   "source": [
    "df.isnull().sum()"
   ]
  },
  {
   "cell_type": "markdown",
   "metadata": {},
   "source": [
    "## 1.3.2 Типы признаков\n",
    "\n",
    "Для просмотра информации о типах наблюдаемых признаков у объектов воспользуемся свойством `.info()`"
   ]
  },
  {
   "cell_type": "code",
   "execution_count": 79,
   "metadata": {},
   "outputs": [
    {
     "name": "stdout",
     "output_type": "stream",
     "text": [
      "<class 'pandas.core.frame.DataFrame'>\n",
      "RangeIndex: 4000 entries, 0 to 3999\n",
      "Data columns (total 11 columns):\n",
      "Код                                      4000 non-null int64\n",
      "Возраст                                  4000 non-null int64\n",
      "Среднемесячный расход                    4000 non-null float64\n",
      "Средняя продолжительность разговоров     4000 non-null float64\n",
      "Звонков днем за месяц                    4000 non-null int64\n",
      "Звонков вечером за месяц                 4000 non-null int64\n",
      "Звонков ночью за месяц                   4000 non-null int64\n",
      "Звонки в другие города                   4000 non-null int64\n",
      "Звонки в другие страны                   4000 non-null int64\n",
      "Доля звонков на стационарные телефоны    4000 non-null int64\n",
      "Количество SMS за месяц                  4000 non-null int64\n",
      "dtypes: float64(2), int64(9)\n",
      "memory usage: 343.9 KB\n"
     ]
    }
   ],
   "source": [
    "df.info()"
   ]
  },
  {
   "cell_type": "markdown",
   "metadata": {},
   "source": [
    "## 1.3.3 Генерирование входного массива и нормализация признаков "
   ]
  },
  {
   "cell_type": "code",
   "execution_count": 122,
   "metadata": {},
   "outputs": [],
   "source": [
    "X=df.iloc[:,1:].values #копирование значений датафрейма без наблюдения \"Код\"\n",
    "X=(X-X.mean(axis=0))/X.std(axis=0) #стандартизация данных\n",
    "#print(X.mean(axis=0)) #просмотр массива выборочных средних -- они должны быть равны 0 \n",
    "#print(X.std(axis=0)) # просмотр массива стандартных отклонений --- они должны быть равными 1\n",
    "#print(X) # просмотр входного массива --- аккуратные данные!!!!"
   ]
  },
  {
   "cell_type": "markdown",
   "metadata": {},
   "source": [
    "# 2. Кластеризация: агломеративный алгоритм"
   ]
  },
  {
   "cell_type": "markdown",
   "metadata": {},
   "source": [
    "## 2.1 Реализация разбинения, матрица связей и ее интерпретация, визуализация\n",
    "\n",
    "Для дополнительного изучения материала рекомендуется воспользоваться ресурсами [2, 3]    \n",
    "Иерархическая кластеризация реализована в модуле `scipy.cluster.hierarchy`.    \n",
    "Импортируем из этого модуля методы:    \n",
    "- `.linkage()` -- выполняет иерархическую (агломеративную) кластеризацию; \n",
    "- `.dendrogram()` -- строит дендрограмму;\n",
    "- `.fcluster()` -- \n",
    "\n",
    "Метод `.linkage()` имеет следующую спецификацию `linkage(X[, method, metric, optimal_ordering])`:    \n",
    "- X -- матрица попарных расстояний или исходных данных (в матрице не должно быть пробелов или категориальных значений)\n",
    "- method -- правило, по которому будут рассчитываться расстояния между кластерами:    \n",
    "    - `single`\n",
    "    - `complete`\n",
    "    - `average`\n",
    "    - `weighted`\n",
    "    - `centroid`\n",
    "    - `median`\n",
    "    - `ward`\n",
    "- metric -- метрика: `braycurtis`, `canberra`, `chebyshev`, `cityblock`, `correlation`, `cosine`, `dice`, `euclidean`, `hamming`, `jaccard`, `jensenshannon`, `kulsinski`, `mahalanobis`, `matching`, `minkowsk`, `rogerstanimoto`, `russellrao`, `seuclidean`, `sokalmichener`, `sokalsneath`, `sqeuclidean`, `yule`.\n",
    "\n",
    "Результатом выполнения метода `.linkage()` является массив связей кластера. Обозначим его `Z`. Ниже дадим интерпретацию элементам массива `Z`.   "
   ]
  },
  {
   "cell_type": "code",
   "execution_count": 81,
   "metadata": {},
   "outputs": [],
   "source": [
    "from scipy.cluster.hierarchy import linkage, dendrogram, fcluster\n",
    "import matplotlib.pyplot as plt\n",
    "import numpy as np"
   ]
  },
  {
   "cell_type": "code",
   "execution_count": 85,
   "metadata": {},
   "outputs": [
    {
     "data": {
      "image/png": "[encoded data removed]",
      "text/plain": [
       "<Figure size 432x288 with 1 Axes>"
      ]
     },
     "metadata": {
      "needs_background": "light"
     },
     "output_type": "display_data"
    }
   ],
   "source": [
    "Z = linkage(X, method='ward') \n",
    "plt.figure()\n",
    "plt.title('Иерархическая кластеризация: дендрограмма')\n",
    "plt.xlabel('Объекты/ кластеры')\n",
    "plt.ylabel('Расстояние')\n",
    "dendrogram(Z) #рекомендуется посмотреть и другие параметры этого метода \n",
    "plt.savefig('dendrogramma.png', dpi = 300) #сохранить рисунок\n",
    "plt.show() #отобразить дендрограмму "
   ]
  },
  {
   "cell_type": "code",
   "execution_count": 159,
   "metadata": {},
   "outputs": [
    {
     "data": {
      "text/plain": [
       "array([[ 3419.000,  3697.000,  0.016,  2.000],\n",
       "       [ 2298.000,  3307.000,  0.016,  2.000],\n",
       "       [ 1317.000,  3406.000,  0.024,  2.000],\n",
       "       ...,\n",
       "       [ 7983.000,  7995.000,  74.160,  3562.000],\n",
       "       [ 7989.000,  7993.000,  92.775,  438.000],\n",
       "       [ 7996.000,  7997.000,  139.438,  4000.000]])"
      ]
     },
     "execution_count": 159,
     "metadata": {},
     "output_type": "execute_result"
    }
   ],
   "source": [
    "np.set_printoptions(formatter={'float': '{: 0.3f}'.format})\n",
    "Z"
   ]
  },
  {
   "cell_type": "markdown",
   "metadata": {},
   "source": [
    "Дадим интерпретацию элементам массив связей кластера `Z`. В первом и втором столбцах массива `Z` указаны индексы кластеров (в том числе синглетонов), объединяющих на текущей итерации. В третьем столбце находится расстояние между кластерами. В четвертом столбце индекс нового кластера, показыващий число синглетонов в новом кластере. Например, строка Z[0] содержит следующее `[3419.000,  3697.000,  0.016,  2.000]`. Элементы этой строки показывают, что на первой (напомним, что индексация массивов начинается с 0) итерации алгоритма объединяются кластеры (здесь синглетоны -- кластер, состоящий из одного элемента) с номерами 3419 и 3697, расстояние между кластерами равно 0.016, новому кластеру присвоен номер 2 -- по числу синглетонов в образовавшемся кластере, и т.д.     \n",
    "Напомним, что в исходном массиве число объектов 4000, проиндексированных от 0 до 3999. Если имеем индексы такие, что $idx \\geqslant len(X)$ соответствуют кластерам, которые объединились ранее и находятся в массиве связей кластера в строке $Z[idx-len(X)]$, где $len(X)=3999$."
   ]
  },
  {
   "cell_type": "markdown",
   "metadata": {},
   "source": [
    "Итак, построили полное дерево кластеров. Займемся теперь вопросом поиска оптимального разбиения по числу кластеров. Воспользуемся для этого `методом локтя`. "
   ]
  },
  {
   "cell_type": "markdown",
   "metadata": {},
   "source": [
    "## 2.2 Оптимальная структура разбиения: метод локтя"
   ]
  },
  {
   "cell_type": "code",
   "execution_count": 165,
   "metadata": {
    "scrolled": true
   },
   "outputs": [
    {
     "data": {
      "image/png": "[encoded data removed]",
      "text/plain": [
       "<Figure size 432x288 with 1 Axes>"
      ]
     },
     "metadata": {
      "needs_background": "light"
     },
     "output_type": "display_data"
    },
    {
     "name": "stdout",
     "output_type": "stream",
     "text": [
      "clusters: 2\n"
     ]
    }
   ],
   "source": [
    "last = Z[-15:, 2] # в матрице связей берем последние 20 значений расстояний между кластерами \n",
    "last_rev = last[::-1] #переписываем в обратном порядке  \n",
    "idxs = np.arange(1, len(last) + 1,1) #генерируем список начальное значение 1, конечное --- число элементов массива, шаг 1\n",
    "plt.xlabel('Число кластеров')\n",
    "plt.ylabel('Расстояние')\n",
    "plt.title('Метод локтя')\n",
    "plt.plot(idxs, last_rev) #отображение графика \n",
    "\n",
    "#далее идет расчет вторых разностей, пример взят из [2]  \n",
    "acceleration = np.diff(last, 2)  # 2nd derivative of the distances\n",
    "acceleration_rev = acceleration[::-1]\n",
    "plt.plot(idxs[:-2] + 1, acceleration_rev)\n",
    "plt.show()\n",
    "k = acceleration_rev.argmax() + 2  # if idx 0 is the max of this we want 2 clusters\n",
    "print(\"clusters:\", k)"
   ]
  },
  {
   "cell_type": "markdown",
   "metadata": {},
   "source": [
    "На данном графике показана зависимость расстояния между кластерами от номера шага итерации, на котором два ближайших кластера объединяются в новый --- синия линия.Оранжевая линия показывает, как меняется ускорение --- быстрота изменения расстояния между объединяемыми кластерами. В данном случае оптимальным числом кластеров может считаться 2, 3, 7 или 8. Ориентируясь на поведение функции расстояния, примем в качестве оптимальное разбиения --- разбиение на 8 кластеров. "
   ]
  },
  {
   "cell_type": "markdown",
   "metadata": {},
   "source": [
    "## 2.3 Анализ результатов кластеризации: усеченная дендрограмма, выбор кластеров, вывод состава кластеров"
   ]
  },
  {
   "cell_type": "markdown",
   "metadata": {},
   "source": [
    "Если количество элементов, подлежащих кластеризации велико, то можно отобразить усеченную дендрограмму. Усечение используется для сжатия дендрограммы. Для того, чтобы построить усеченную дендрограмму необходимо в команде `.dendrogram()` использовать режим `truncate_mode` со значением `lastp` или `level`.     \n",
    "Если `truncate_mode='lastp'`, то отображается `p` последних образовавшихся кластера. В матрице связей $Z$ это соответствует строкам $Z[n-p-2:end]$. По оси абцисс в скобках указывается число объектов, содержащихся в кластерах."
   ]
  },
  {
   "cell_type": "code",
   "execution_count": 164,
   "metadata": {},
   "outputs": [
    {
     "data": {
      "image/png": "[encoded data removed]",
      "text/plain": [
       "<Figure size 432x288 with 1 Axes>"
      ]
     },
     "metadata": {
      "needs_background": "light"
     },
     "output_type": "display_data"
    }
   ],
   "source": [
    "plt.figure()\n",
    "plt.title('Иерархическая кластеризация: усеченная дендрограмма')\n",
    "plt.xlabel('Объекты/ кластеры')\n",
    "plt.ylabel('Расстояние')\n",
    "dendrogram(Z, \n",
    "           truncate_mode = 'lastp', #включен режим показывать последние 'p' кластеров  \n",
    "           p=8,                     #отобразить последние 8 кластеров \n",
    "           leaf_rotation = 0,       #угол поворота надписей по оси  \n",
    "           leaf_font_size = 20,     #размер шрифта  \n",
    "           show_contracted = True)  # рисовать черные точки на высотах предыдущих слияний кластеров\n",
    "plt.savefig('trunc_dendrogramm.png', dpi = 300)\n",
    "plt.show()"
   ]
  },
  {
   "cell_type": "markdown",
   "metadata": {},
   "source": [
    "Для выделения некоторого разбиения объектов на кластеры воспользуемся функцией `fcluster()`, которая на основе построенной матрицы связей `Z` выделяет некоторое разбиение на кластеры, исходя из задаваемых пользователем критериев. В качестве критерия можно указать либо максимальное количество кластеров `criterion='maxclust'`, либо расстоние `criterion='distance'`.     \n",
    " \n",
    "В первом случае мы указываем требуемое (желаемое) максимальное число кластеров, т.е. используем критерий `criterion='maxclust'`. На выходе имеем массив с указанием номера кластера, которому принадлежит соответствующий исходный объект "
   ]
  },
  {
   "cell_type": "code",
   "execution_count": 166,
   "metadata": {},
   "outputs": [
    {
     "name": "stdout",
     "output_type": "stream",
     "text": [
      "[2 3 2 ... 1 4 7]\n"
     ]
    }
   ],
   "source": [
    "label=fcluster(Z, 8, criterion='maxclust')\n",
    "print(label)"
   ]
  },
  {
   "cell_type": "markdown",
   "metadata": {},
   "source": [
    "Для анализа каждого из выделенных кластеров реализуем следующие действия:    \n",
    "1) добавим в исходный датафрейм новый столбец `Номер кластера`;    \n",
    "2) в цикле `for` с использоанием механизма группировки датафрейма `groupby` выведем объекты кластеров"
   ]
  },
  {
   "cell_type": "code",
   "execution_count": 167,
   "metadata": {},
   "outputs": [
    {
     "name": "stdout",
     "output_type": "stream",
     "text": [
      "==========\n",
      "cluster 1\n",
      "       Код  Возраст  Среднемесячный расход  \\\n",
      "7        7       66                  14.52   \n",
      "15      15       69                  50.40   \n",
      "19      19       52                  17.69   \n",
      "20      20       59                  74.88   \n",
      "46      46       68                  39.00   \n",
      "...    ...      ...                    ...   \n",
      "3978  4068       39                  17.64   \n",
      "3981  4071       34                  18.92   \n",
      "3982  4072       66                  38.40   \n",
      "3992  4082       68                  32.64   \n",
      "3997  4088       64                  77.52   \n",
      "\n",
      "      Средняя продолжительность разговоров  Звонков днем за месяц  \\\n",
      "7                                      1.1                     10   \n",
      "15                                     2.1                     15   \n",
      "19                                     1.8                      7   \n",
      "20                                     2.4                      9   \n",
      "46                                     2.5                      9   \n",
      "...                                    ...                    ...   \n",
      "3978                                   1.4                      2   \n",
      "3981                                   1.1                      9   \n",
      "3982                                   3.2                      5   \n",
      "3992                                   1.7                     15   \n",
      "3997                                   3.4                     14   \n",
      "\n",
      "      Звонков вечером за месяц  Звонков ночью за месяц  \\\n",
      "7                            1                       0   \n",
      "15                           5                       0   \n",
      "19                           5                       0   \n",
      "20                          17                       0   \n",
      "46                           4                       0   \n",
      "...                        ...                     ...   \n",
      "3978                        11                       2   \n",
      "3981                        12                       0   \n",
      "3982                         5                       0   \n",
      "3992                         1                       0   \n",
      "3997                         5                       0   \n",
      "\n",
      "      Звонки в другие города  Звонки в другие страны  \\\n",
      "7                          0                       0   \n",
      "15                         0                       0   \n",
      "19                         0                       0   \n",
      "20                         0                       0   \n",
      "46                         0                       0   \n",
      "...                      ...                     ...   \n",
      "3978                       0                       0   \n",
      "3981                       0                       0   \n",
      "3982                       0                       0   \n",
      "3992                       0                       0   \n",
      "3997                       0                       0   \n",
      "\n",
      "      Доля звонков на стационарные телефоны  Количество SMS за месяц  \\\n",
      "7                                         3                        1   \n",
      "15                                       14                        3   \n",
      "19                                        0                        0   \n",
      "20                                        7                        1   \n",
      "46                                        4                        3   \n",
      "...                                     ...                      ...   \n",
      "3978                                      0                        0   \n",
      "3981                                      0                        0   \n",
      "3982                                     12                        2   \n",
      "3992                                      2                        1   \n",
      "3997                                      2                        2   \n",
      "\n",
      "      Номер кластера  \n",
      "7                  1  \n",
      "15                 1  \n",
      "19                 1  \n",
      "20                 1  \n",
      "46                 1  \n",
      "...              ...  \n",
      "3978               1  \n",
      "3981               1  \n",
      "3982               1  \n",
      "3992               1  \n",
      "3997               1  \n",
      "\n",
      "[453 rows x 12 columns]\n",
      "==========\n",
      "cluster 2\n",
      "       Код  Возраст  Среднемесячный расход  \\\n",
      "0        0       24                 121.54   \n",
      "2        2       41                 113.70   \n",
      "8        8       36                 209.12   \n",
      "11      11       29                 556.92   \n",
      "13      13       21                  57.33   \n",
      "...    ...      ...                    ...   \n",
      "3973  4062       21                  96.70   \n",
      "3977  4067       20                  15.03   \n",
      "3979  4069       21                 183.17   \n",
      "3988  4078       23                 111.51   \n",
      "3996  4087       27                 120.52   \n",
      "\n",
      "      Средняя продолжительность разговоров  Звонков днем за месяц  \\\n",
      "0                                      2.4                     12   \n",
      "2                                      2.1                     41   \n",
      "8                                      2.5                     34   \n",
      "11                                     3.4                     97   \n",
      "13                                     2.0                      2   \n",
      "...                                    ...                    ...   \n",
      "3973                                   2.2                      3   \n",
      "3977                                   0.4                     16   \n",
      "3979                                   2.7                     38   \n",
      "3988                                   2.7                     50   \n",
      "3996                                   1.1                     63   \n",
      "\n",
      "      Звонков вечером за месяц  Звонков ночью за месяц  \\\n",
      "0                           65                       5   \n",
      "2                           27                       0   \n",
      "8                           70                       3   \n",
      "11                          96                       2   \n",
      "13                          39                       8   \n",
      "...                        ...                     ...   \n",
      "3973                        66                       0   \n",
      "3977                        43                       0   \n",
      "3979                        52                      33   \n",
      "3988                         8                       2   \n",
      "3996                        83                       0   \n",
      "\n",
      "      Звонки в другие города  Звонки в другие страны  \\\n",
      "0                          0                       0   \n",
      "2                          0                       0   \n",
      "8                          2                       0   \n",
      "11                         0                       0   \n",
      "13                         0                       0   \n",
      "...                      ...                     ...   \n",
      "3973                       3                       0   \n",
      "3977                       0                       0   \n",
      "3979                       0                       0   \n",
      "3988                       0                       0   \n",
      "3996                       6                       0   \n",
      "\n",
      "      Доля звонков на стационарные телефоны  Количество SMS за месяц  \\\n",
      "0                                         5                       56   \n",
      "2                                         1                       36   \n",
      "8                                         7                       63   \n",
      "11                                        0                       49   \n",
      "13                                        2                       21   \n",
      "...                                     ...                      ...   \n",
      "3973                                      3                       93   \n",
      "3977                                     12                       26   \n",
      "3979                                      4                       35   \n",
      "3988                                      0                       60   \n",
      "3996                                      6                       21   \n",
      "\n",
      "      Номер кластера  \n",
      "0                  2  \n",
      "2                  2  \n",
      "8                  2  \n",
      "11                 2  \n",
      "13                 2  \n",
      "...              ...  \n",
      "3973               2  \n",
      "3977               2  \n",
      "3979               2  \n",
      "3988               2  \n",
      "3996               2  \n",
      "\n",
      "[667 rows x 12 columns]\n",
      "==========\n",
      "cluster 3\n",
      "       Код  Возраст  Среднемесячный расход  \\\n",
      "1        1       51                 287.51   \n",
      "16      16       46                 539.28   \n",
      "18      18       48                 202.30   \n",
      "28      28       34                 180.91   \n",
      "35      35       51                 214.20   \n",
      "...    ...      ...                    ...   \n",
      "3971  4060       36                 151.61   \n",
      "3974  4064       48                  75.36   \n",
      "3975  4065       38                 232.95   \n",
      "3985  4075       33                 592.57   \n",
      "3991  4081       32                 530.88   \n",
      "\n",
      "      Средняя продолжительность разговоров  Звонков днем за месяц  \\\n",
      "1                                      1.7                    111   \n",
      "16                                     5.1                     92   \n",
      "18                                     3.4                     31   \n",
      "28                                     1.6                     87   \n",
      "35                                     1.7                    104   \n",
      "...                                    ...                    ...   \n",
      "3971                                   2.0                     47   \n",
      "3974                                   1.4                     52   \n",
      "3975                                   2.3                     67   \n",
      "3985                                   6.1                     57   \n",
      "3991                                   7.9                     50   \n",
      "\n",
      "      Звонков вечером за месяц  Звонков ночью за месяц  \\\n",
      "1                          109                       1   \n",
      "16                          37                       0   \n",
      "18                          41                       0   \n",
      "28                          54                       1   \n",
      "35                          34                       0   \n",
      "...                        ...                     ...   \n",
      "3971                        53                       0   \n",
      "3974                         9                       5   \n",
      "3975                        65                       0   \n",
      "3985                        72                       1   \n",
      "3991                        26                       0   \n",
      "\n",
      "      Звонки в другие города  Звонки в другие страны  \\\n",
      "1                         44                       0   \n",
      "16                        25                       0   \n",
      "18                        30                       0   \n",
      "28                        36                       0   \n",
      "35                        38                       0   \n",
      "...                      ...                     ...   \n",
      "3971                      45                       0   \n",
      "3974                       6                       1   \n",
      "3975                      44                       1   \n",
      "3985                      30                       0   \n",
      "3991                      23                       0   \n",
      "\n",
      "      Доля звонков на стационарные телефоны  Количество SMS за месяц  \\\n",
      "1                                         6                        1   \n",
      "16                                       27                        0   \n",
      "18                                        1                        4   \n",
      "28                                       11                       30   \n",
      "35                                        8                        4   \n",
      "...                                     ...                      ...   \n",
      "3971                                     11                       14   \n",
      "3974                                     26                        2   \n",
      "3975                                      4                       53   \n",
      "3985                                     23                       25   \n",
      "3991                                     25                       42   \n",
      "\n",
      "      Номер кластера  \n",
      "1                  3  \n",
      "16                 3  \n",
      "18                 3  \n",
      "28                 3  \n",
      "35                 3  \n",
      "...              ...  \n",
      "3971               3  \n",
      "3974               3  \n",
      "3975               3  \n",
      "3985               3  \n",
      "3991               3  \n",
      "\n",
      "[694 rows x 12 columns]\n",
      "==========\n",
      "cluster 4\n",
      "       Код  Возраст  Среднемесячный расход  \\\n",
      "3        3       35                 410.23   \n",
      "4        4       26                 537.60   \n",
      "12      12       43                 636.75   \n",
      "29      29       59                1187.88   \n",
      "33      33       41                 330.75   \n",
      "...    ...      ...                    ...   \n",
      "3945  4031       31                 601.97   \n",
      "3956  4042       35                 667.58   \n",
      "3963  4050       26                 848.82   \n",
      "3980  4070       49                 688.95   \n",
      "3998  4089       45                1084.11   \n",
      "\n",
      "      Средняя продолжительность разговоров  Звонков днем за месяц  \\\n",
      "3                                      5.6                     47   \n",
      "4                                      4.8                     58   \n",
      "12                                     6.8                     59   \n",
      "29                                     8.4                     91   \n",
      "33                                     7.5                     41   \n",
      "...                                    ...                    ...   \n",
      "3945                                   6.3                     36   \n",
      "3956                                   8.0                     66   \n",
      "3963                                   8.6                     65   \n",
      "3980                                   9.7                     37   \n",
      "3998                                   9.3                     89   \n",
      "\n",
      "      Звонков вечером за месяц  Звонков ночью за месяц  \\\n",
      "3                           49                       0   \n",
      "4                           77                       4   \n",
      "12                          64                       0   \n",
      "29                          93                       2   \n",
      "33                           5                       0   \n",
      "...                        ...                     ...   \n",
      "3945                       100                       0   \n",
      "3956                        38                       0   \n",
      "3963                        50                       0   \n",
      "3980                        57                       5   \n",
      "3998                        58                       0   \n",
      "\n",
      "      Звонки в другие города  Звонки в другие страны  \\\n",
      "3                          0                       0   \n",
      "4                          0                       0   \n",
      "12                         0                       0   \n",
      "29                         0                       0   \n",
      "33                         2                       0   \n",
      "...                      ...                     ...   \n",
      "3945                       6                       0   \n",
      "3956                       0                       0   \n",
      "3963                       3                       0   \n",
      "3980                       0                       0   \n",
      "3998                       0                       1   \n",
      "\n",
      "      Доля звонков на стационарные телефоны  Количество SMS за месяц  \\\n",
      "3                                        11                       23   \n",
      "4                                        16                       29   \n",
      "12                                        8                       18   \n",
      "29                                       18                        5   \n",
      "33                                        7                       12   \n",
      "...                                     ...                      ...   \n",
      "3945                                      9                       28   \n",
      "3956                                      0                       14   \n",
      "3963                                      5                       36   \n",
      "3980                                     20                        5   \n",
      "3998                                     10                        5   \n",
      "\n",
      "      Номер кластера  \n",
      "3                  4  \n",
      "4                  4  \n",
      "12                 4  \n",
      "29                 4  \n",
      "33                 4  \n",
      "...              ...  \n",
      "3945               4  \n",
      "3956               4  \n",
      "3963               4  \n",
      "3980               4  \n",
      "3998               4  \n",
      "\n",
      "[472 rows x 12 columns]\n",
      "==========\n",
      "cluster 5\n",
      "       Код  Возраст  Среднемесячный расход  \\\n",
      "5        5       26                 324.56   \n",
      "6        6       50                 410.04   \n",
      "9        9       40                 162.40   \n",
      "21      21       27                 245.95   \n",
      "22      22       30                 318.82   \n",
      "...    ...      ...                    ...   \n",
      "3987  4077       43                 117.72   \n",
      "3990  4080       47                 244.00   \n",
      "3993  4083       50                 284.20   \n",
      "3994  4084       31                 370.03   \n",
      "3995  4085       50                 271.95   \n",
      "\n",
      "      Средняя продолжительность разговоров  Звонков днем за месяц  \\\n",
      "5                                      3.3                     45   \n",
      "6                                      4.1                     61   \n",
      "9                                      1.6                     79   \n",
      "21                                     2.7                     62   \n",
      "22                                     3.5                     50   \n",
      "...                                    ...                    ...   \n",
      "3987                                   1.4                     84   \n",
      "3990                                   4.7                     33   \n",
      "3993                                   3.5                     67   \n",
      "3994                                   3.7                     83   \n",
      "3995                                   3.7                     40   \n",
      "\n",
      "      Звонков вечером за месяц  Звонков ночью за месяц  \\\n",
      "5                           75                       3   \n",
      "6                           71                       0   \n",
      "9                           32                       4   \n",
      "21                          55                       0   \n",
      "22                          72                       0   \n",
      "...                        ...                     ...   \n",
      "3987                        10                       8   \n",
      "3990                        32                       7   \n",
      "3993                        21                       0   \n",
      "3994                        39                       2   \n",
      "3995                        48                       0   \n",
      "\n",
      "      Звонки в другие города  Звонки в другие страны  \\\n",
      "5                          1                       1   \n",
      "6                          0                       2   \n",
      "9                          0                       0   \n",
      "21                         0                       0   \n",
      "22                         2                       0   \n",
      "...                      ...                     ...   \n",
      "3987                       0                       0   \n",
      "3990                      13                       0   \n",
      "3993                       0                       0   \n",
      "3994                       0                       0   \n",
      "3995                      10                       0   \n",
      "\n",
      "      Доля звонков на стационарные телефоны  Количество SMS за месяц  \\\n",
      "5                                         8                       15   \n",
      "6                                        23                        4   \n",
      "9                                        18                       27   \n",
      "21                                       19                       23   \n",
      "22                                       12                       26   \n",
      "...                                     ...                      ...   \n",
      "3987                                     13                        4   \n",
      "3990                                      4                        3   \n",
      "3993                                     13                        2   \n",
      "3994                                     26                       30   \n",
      "3995                                      7                        0   \n",
      "\n",
      "      Номер кластера  \n",
      "5                  5  \n",
      "6                  5  \n",
      "9                  5  \n",
      "21                 5  \n",
      "22                 5  \n",
      "...              ...  \n",
      "3987               5  \n",
      "3990               5  \n",
      "3993               5  \n",
      "3994               5  \n",
      "3995               5  \n",
      "\n",
      "[1276 rows x 12 columns]\n",
      "==========\n",
      "cluster 6\n",
      "       Код  Возраст  Среднемесячный расход  \\\n",
      "53      53       31                1922.36   \n",
      "83      84       33                 508.22   \n",
      "95      96       29                1977.50   \n",
      "113    114       32                1285.94   \n",
      "114    115       30                1631.12   \n",
      "...    ...      ...                    ...   \n",
      "3937  4022       30                 805.90   \n",
      "3940  4026       36                 945.45   \n",
      "3959  4045       27                1425.06   \n",
      "3970  4058       32                1332.35   \n",
      "3989  4079       33                 798.25   \n",
      "\n",
      "      Средняя продолжительность разговоров  Звонков днем за месяц  \\\n",
      "53                                    14.4                    109   \n",
      "83                                     5.2                    100   \n",
      "95                                    18.2                    100   \n",
      "113                                    9.2                    111   \n",
      "114                                   15.6                     70   \n",
      "...                                    ...                    ...   \n",
      "3937                                   8.0                    100   \n",
      "3940                                   7.2                     85   \n",
      "3959                                  10.0                     93   \n",
      "3970                                   9.8                    102   \n",
      "3989                                   6.8                    106   \n",
      "\n",
      "      Звонков вечером за месяц  Звонков ночью за месяц  \\\n",
      "53                         123                      25   \n",
      "83                          64                      30   \n",
      "95                          78                      42   \n",
      "113                        121                      48   \n",
      "114                        109                      25   \n",
      "...                        ...                     ...   \n",
      "3937                        64                      41   \n",
      "3940                       140                      31   \n",
      "3959                       125                      86   \n",
      "3970                       123                      48   \n",
      "3989                        86                      46   \n",
      "\n",
      "      Звонки в другие города  Звонки в другие страны  \\\n",
      "53                         6                       0   \n",
      "83                        49                       2   \n",
      "95                        38                       0   \n",
      "113                        6                       2   \n",
      "114                       44                       0   \n",
      "...                      ...                     ...   \n",
      "3937                       4                       2   \n",
      "3940                      24                       0   \n",
      "3959                      22                       2   \n",
      "3970                      10                       2   \n",
      "3989                       4                       2   \n",
      "\n",
      "      Доля звонков на стационарные телефоны  Количество SMS за месяц  \\\n",
      "53                                        5                       79   \n",
      "83                                        4                       65   \n",
      "95                                        0                       62   \n",
      "113                                       1                       86   \n",
      "114                                       9                       63   \n",
      "...                                     ...                      ...   \n",
      "3937                                      3                       55   \n",
      "3940                                      3                      102   \n",
      "3959                                     15                      116   \n",
      "3970                                      1                      108   \n",
      "3989                                      6                      115   \n",
      "\n",
      "      Номер кластера  \n",
      "53                 6  \n",
      "83                 6  \n",
      "95                 6  \n",
      "113                6  \n",
      "114                6  \n",
      "...              ...  \n",
      "3937               6  \n",
      "3940               6  \n",
      "3959               6  \n",
      "3970               6  \n",
      "3989               6  \n",
      "\n",
      "[261 rows x 12 columns]\n",
      "==========\n",
      "cluster 7\n",
      "       Код  Возраст  Среднемесячный расход  \\\n",
      "10      10       23                2672.34   \n",
      "57      57       51                1148.51   \n",
      "72      72       53                2556.34   \n",
      "146    147       49                3451.00   \n",
      "183    184       45                2215.61   \n",
      "...    ...      ...                    ...   \n",
      "3944  4030       28                1549.18   \n",
      "3958  4044       23                2606.60   \n",
      "3972  4061       66                2842.42   \n",
      "3984  4074       53                3329.76   \n",
      "3999  4090       50                2044.14   \n",
      "\n",
      "      Средняя продолжительность разговоров  Звонков днем за месяц  \\\n",
      "10                                    13.8                    222   \n",
      "57                                     6.0                    184   \n",
      "72                                     9.8                    260   \n",
      "146                                   11.6                    289   \n",
      "183                                   12.4                    169   \n",
      "...                                    ...                    ...   \n",
      "3944                                   8.0                    221   \n",
      "3958                                  13.2                    211   \n",
      "3972                                   7.4                    496   \n",
      "3984                                   9.6                    383   \n",
      "3999                                   6.2                    310   \n",
      "\n",
      "      Звонков вечером за месяц  Звонков ночью за месяц  \\\n",
      "10                          77                      10   \n",
      "57                         112                       9   \n",
      "72                         131                      37   \n",
      "146                        121                      30   \n",
      "183                         95                      33   \n",
      "...                        ...                     ...   \n",
      "3944                        73                      20   \n",
      "3958                        95                       8   \n",
      "3972                        98                      18   \n",
      "3984                       107                      11   \n",
      "3999                       147                      28   \n",
      "\n",
      "      Звонки в другие города  Звонки в другие страны  \\\n",
      "10                        30                       0   \n",
      "57                        76                       0   \n",
      "72                        42                       0   \n",
      "146                        8                       0   \n",
      "183                       29                       0   \n",
      "...                      ...                     ...   \n",
      "3944                      36                       0   \n",
      "3958                      32                       0   \n",
      "3972                      65                       0   \n",
      "3984                       9                       0   \n",
      "3999                       6                       0   \n",
      "\n",
      "      Доля звонков на стационарные телефоны  Количество SMS за месяц  \\\n",
      "10                                       20                       10   \n",
      "57                                       43                        8   \n",
      "72                                       55                        8   \n",
      "146                                      13                        5   \n",
      "183                                      23                        8   \n",
      "...                                     ...                      ...   \n",
      "3944                                     15                        9   \n",
      "3958                                     55                        0   \n",
      "3972                                     35                       11   \n",
      "3984                                     26                       10   \n",
      "3999                                     12                       13   \n",
      "\n",
      "      Номер кластера  \n",
      "10                 7  \n",
      "57                 7  \n",
      "72                 7  \n",
      "146                7  \n",
      "183                7  \n",
      "...              ...  \n",
      "3944               7  \n",
      "3958               7  \n",
      "3972               7  \n",
      "3984               7  \n",
      "3999               7  \n",
      "\n",
      "[103 rows x 12 columns]\n",
      "==========\n",
      "cluster 8\n",
      "       Код  Возраст  Среднемесячный расход  \\\n",
      "23      23       51                3608.54   \n",
      "88      89       61                1529.92   \n",
      "143    144       49                3636.63   \n",
      "275    280       36                3577.77   \n",
      "320    325       57                1970.05   \n",
      "...    ...      ...                    ...   \n",
      "3709  3789       33                2249.25   \n",
      "3713  3793       30                2042.54   \n",
      "3796  3879       27                2466.46   \n",
      "3802  3885       30                4650.52   \n",
      "3859  3943       61                3253.48   \n",
      "\n",
      "      Средняя продолжительность разговоров  Звонков днем за месяц  \\\n",
      "23                                    13.8                    326   \n",
      "88                                     6.4                    243   \n",
      "143                                   11.0                    376   \n",
      "275                                   13.8                    346   \n",
      "320                                    7.8                    311   \n",
      "...                                    ...                    ...   \n",
      "3709                                   6.0                    470   \n",
      "3713                                  10.6                    218   \n",
      "3796                                   8.0                    409   \n",
      "3802                                  13.6                    375   \n",
      "3859                                  15.0                    247   \n",
      "\n",
      "      Звонков вечером за месяц  Звонков ночью за месяц  \\\n",
      "23                          77                      15   \n",
      "88                          91                      15   \n",
      "143                        119                      48   \n",
      "275                         55                      12   \n",
      "320                         73                      25   \n",
      "...                        ...                     ...   \n",
      "3709                       109                      19   \n",
      "3713                        67                      35   \n",
      "3796                        75                       0   \n",
      "3802                       102                      23   \n",
      "3859                        84                      19   \n",
      "\n",
      "      Звонки в другие города  Звонки в другие страны  \\\n",
      "23                        58                       3   \n",
      "88                        32                       5   \n",
      "143                        8                       3   \n",
      "275                       26                       5   \n",
      "320                       40                      11   \n",
      "...                      ...                     ...   \n",
      "3709                      30                      11   \n",
      "3713                       5                       5   \n",
      "3796                       5                       9   \n",
      "3802                      33                       5   \n",
      "3859                      27                       5   \n",
      "\n",
      "      Доля звонков на стационарные телефоны  Количество SMS за месяц  \\\n",
      "23                                       58                        0   \n",
      "88                                       48                       15   \n",
      "143                                      28                       14   \n",
      "275                                      23                       11   \n",
      "320                                      59                       10   \n",
      "...                                     ...                      ...   \n",
      "3709                                     28                       12   \n",
      "3713                                     28                        5   \n",
      "3796                                     11                       11   \n",
      "3802                                     50                        0   \n",
      "3859                                     15                        9   \n",
      "\n",
      "      Номер кластера  \n",
      "23                 8  \n",
      "88                 8  \n",
      "143                8  \n",
      "275                8  \n",
      "320                8  \n",
      "...              ...  \n",
      "3709               8  \n",
      "3713               8  \n",
      "3796               8  \n",
      "3802               8  \n",
      "3859               8  \n",
      "\n",
      "[74 rows x 12 columns]\n"
     ]
    }
   ],
   "source": [
    "df.loc[:,'Номер кластера']=label # добавление нового столбца с метками \n",
    "for i, group in df.groupby('Номер кластера'): # вывод элементов каждого кластера  \n",
    "    print('=' * 10)\n",
    "    print('cluster {}'.format(i))\n",
    "    print(group)"
   ]
  },
  {
   "cell_type": "markdown",
   "metadata": {},
   "source": [
    "Во втором случае мы указываем расстояние по оси ординат, на котором будем проводить линию среза, т.е. используем критерий `criterion='distance'`. На выходе имеем массив с указанием номера кластера, которому принадлежит соответствующий исходный объект.     \n",
    "Пусть, например, мы хотим узнать какие кластеры объединились на расстоянии 38. Для наглядности на дендрограмме нарисуем соответствующую линию среза `y=38`.   "
   ]
  },
  {
   "cell_type": "code",
   "execution_count": 61,
   "metadata": {},
   "outputs": [
    {
     "data": {
      "image/png": "[encoded data removed]",
      "text/plain": [
       "<Figure size 432x288 with 1 Axes>"
      ]
     },
     "metadata": {
      "needs_background": "light"
     },
     "output_type": "display_data"
    }
   ],
   "source": [
    "plt.axhline(y=38) #рисуем горизонтальную линию\n",
    "dendrogram(Z, \n",
    "           truncate_mode = 'lastp', #включен режим показывать последние 'p' кластеров  \n",
    "           p=11,                     #отобразить последние 11 кластеров \n",
    "           leaf_rotation = 0,       #угол поворота надписей по оси  \n",
    "           leaf_font_size = 20,     #размер шрифта  \n",
    "           show_contracted = True)  # рисовать черные точки на высотах предыдущих слияний кластеров\n",
    "plt.show()"
   ]
  },
  {
   "cell_type": "markdown",
   "metadata": {},
   "source": [
    "На рисунке показано, что на этом уровне имеется 8 кластеров. Выделим эти кластеры с использованием функции `fcluster()`, задав критерий расстояния. Имеем"
   ]
  },
  {
   "cell_type": "code",
   "execution_count": 183,
   "metadata": {},
   "outputs": [
    {
     "name": "stdout",
     "output_type": "stream",
     "text": [
      "[2 3 2 4 ... 2 1 4 7]\n"
     ]
    }
   ],
   "source": [
    "label1=fcluster(Z, 38, criterion='distance')\n",
    "print(label1)"
   ]
  },
  {
   "cell_type": "markdown",
   "metadata": {},
   "source": [
    "Видим, что построено распределение исходных элементов на 8 кластеров. Для анализа каждого кластера можно проделать последовательность действий, аналогичную выше рассмотренной.  "
   ]
  },
  {
   "cell_type": "markdown",
   "metadata": {},
   "source": [
    "ДОПОЛНИТЕЛЬНАЯ ИНФОРМАЦИЯ: Следует заметить, что при использовании значения `distance` количество кластеров уменьшается с ростом расстояния -- значения параметра `t`. ЖЕЛАТЕЛЬНО разместить соответствующий график зависимости.  "
   ]
  },
  {
   "cell_type": "code",
   "execution_count": 185,
   "metadata": {},
   "outputs": [
    {
     "name": "stdout",
     "output_type": "stream",
     "text": [
      "[   0  453  667  694 ... 1276  261  103   74]\n"
     ]
    }
   ],
   "source": [
    "counts = np.bincount(label1)\n",
    "print(counts)"
   ]
  },
  {
   "cell_type": "markdown",
   "metadata": {},
   "source": [
    "# 3. Неиерархическая кластеризация: метод k-средних"
   ]
  },
  {
   "cell_type": "markdown",
   "metadata": {},
   "source": [
    "В данном разделе рассматривается неиерархическая кластеризация --- т.е. результаты кластеризации не образуют иерархию. Наиболее распространенным методом, реализующим неиерархическую кластеризацию, является метод `k-средних`. Данный метод итеративно разделяет исходное множество объектов, подлежащих кластеризации, на заданное множество кластеров. Процесс разделения прекращается как только будет выполнен критерий останова (не изменяется состав кластеров; не меняется положение центроидов; заданное количество итераций; разница значений функционала на предыдущем и последующем шагах). \n",
    "\n",
    "Модуль `scipy.cluster.vq` предоставляет следующие возможности по реализации метода `k-средних`.\n",
    "- whiten(X[, check_finite]) #проводит нормализацию признаков по стандартному отклонению каждого столбца. Каждый элемент столбца делится на стандартное отклонение по этому столбцу. \n",
    "- vq(X, code_book[, check_finite])\n",
    "- kmeans(X, k_or_guess[, iter, thresh, …]) #\n",
    "- kmeans2(X, k[, iter, thresh, minit, …]) \n",
    "\n",
    "С помощью этих методов кластеризацию можно реализовать двумя сценариями.     \n",
    "- 1 Сценарий    \n",
    "     1.1 Исходные данные, предствленные матрицей \"объект-свойство\" $X$ нормализуются методом `whiten(X)`. В результате имеем нормализованный массив исходных данных X_norm;    \n",
    "     1.2 Нормализованный массив исходных данных X_norm разделяется на заданное число кластеров `k` с использованием метода `kmeans(X_norm, k)`. В результате имеем массив центроидов и минимальное значение функционала качества кластеризации;     \n",
    "     1.3 Нормализованный массив данных X_norm распределяется по найденным центроидам. Для этого используется метод `vq()`.\n",
    "\n",
    "- 2 сценарий\n",
    "    \n",
    "Итак, начнем с того, что импортируем методы `whiten()`, `vq()`,  `kmeans()` и `kmeans2` из модуля `scipy.cluster.vq`. "
   ]
  },
  {
   "cell_type": "code",
   "execution_count": 170,
   "metadata": {},
   "outputs": [],
   "source": [
    "from scipy.cluster.vq import vq, kmeans, whiten, kmeans2"
   ]
  },
  {
   "cell_type": "markdown",
   "metadata": {},
   "source": [
    "Из исходного датафрейма сгенерируем массив объектов, подлежащих кластеризации"
   ]
  },
  {
   "cell_type": "code",
   "execution_count": 171,
   "metadata": {},
   "outputs": [],
   "source": [
    "X=df.iloc[:,1:].values"
   ]
  },
  {
   "cell_type": "markdown",
   "metadata": {},
   "source": [
    "Нормализуем исходные данные с использованием метода `whiten()` "
   ]
  },
  {
   "cell_type": "code",
   "execution_count": 172,
   "metadata": {},
   "outputs": [
    {
     "name": "stdout",
     "output_type": "stream",
     "text": [
      "[ 3.195  0.779  1.398 ...  1.130  0.762  2.202]\n",
      "[ 1.000  1.000  1.000 ...  1.000  1.000  1.000]\n"
     ]
    }
   ],
   "source": [
    "X_norm = whiten(X)\n",
    "print(X_norm.mean(axis=0)) #просмотр массива выборочных средних\n",
    "print(X_norm.std(axis=0)) # просмотр массива стандартных отклонений --- они должны быть равными 1"
   ]
  },
  {
   "cell_type": "markdown",
   "metadata": {},
   "source": [
    "Проведем разбиение нормализованных данных на 5 кластеров с помощью метода `kmeans()`. В результате получим матрицу центроидов и оптимальное значение критерия останова  "
   ]
  },
  {
   "cell_type": "code",
   "execution_count": 173,
   "metadata": {},
   "outputs": [],
   "source": [
    "centroid, opt = kmeans(X_norm, 8)"
   ]
  },
  {
   "cell_type": "code",
   "execution_count": 174,
   "metadata": {},
   "outputs": [
    {
     "name": "stdout",
     "output_type": "stream",
     "text": [
      "[[ 4.200  0.052  0.610 ...  0.337  0.044  0.620]\n",
      " [ 3.269  1.261  2.429 ...  1.047  0.579  2.444]\n",
      " [ 2.398  1.872  2.938 ...  0.756  2.943  3.521]\n",
      " ...\n",
      " [ 3.402  4.393  3.422 ...  2.988  0.260  4.362]\n",
      " [ 3.195  0.550  1.143 ...  2.340  0.632  2.865]\n",
      " [ 3.917  0.465  1.013 ...  0.848  0.147  2.895]] \n",
      " Минимальное значение целевой функции:  1.7974655750992081\n"
     ]
    }
   ],
   "source": [
    "print(centroid, '\\n', 'Минимальное значение целевой функции: ', opt)"
   ]
  },
  {
   "cell_type": "code",
   "execution_count": 175,
   "metadata": {},
   "outputs": [
    {
     "name": "stdout",
     "output_type": "stream",
     "text": [
      "Массив меток кластеров:  [4 3 4 ... 0 1 5]\n",
      "Массив расстояний от элементов до центроидов:  [ 0.773  1.995  1.663 ...  0.869  1.379  4.222]\n"
     ]
    }
   ],
   "source": [
    "label_claster, dist = vq(X_norm, centroid)\n",
    "print('Массив меток кластеров: ', label_claster)\n",
    "print('Массив расстояний от элементов до центроидов: ', dist)"
   ]
  },
  {
   "cell_type": "markdown",
   "metadata": {},
   "source": [
    "Подсчет числа элементов в кластерах"
   ]
  },
  {
   "cell_type": "code",
   "execution_count": 182,
   "metadata": {},
   "outputs": [
    {
     "data": {
      "text/plain": [
       "array([472, 481, 254, 625, 734, 169, 621, 644], dtype=int64)"
      ]
     },
     "execution_count": 182,
     "metadata": {},
     "output_type": "execute_result"
    }
   ],
   "source": [
    "np.set_printoptions(edgeitems=4)\n",
    "counts_elem_in_cluster = np.bincount(label_claster)\n",
    "counts_elem_in_cluster"
   ]
  },
  {
   "cell_type": "code",
   "execution_count": 177,
   "metadata": {},
   "outputs": [
    {
     "data": {
      "text/html": [
       "<div>\n",
       "<style scoped>\n",
       "    .dataframe tbody tr th:only-of-type {\n",
       "        vertical-align: middle;\n",
       "    }\n",
       "\n",
       "    .dataframe tbody tr th {\n",
       "        vertical-align: top;\n",
       "    }\n",
       "\n",
       "    .dataframe thead th {\n",
       "        text-align: right;\n",
       "    }\n",
       "</style>\n",
       "<table border=\"1\" class=\"dataframe\">\n",
       "  <thead>\n",
       "    <tr style=\"text-align: right;\">\n",
       "      <th></th>\n",
       "      <th>Код</th>\n",
       "      <th>Возраст</th>\n",
       "      <th>Среднемесячный расход</th>\n",
       "      <th>Средняя продолжительность разговоров</th>\n",
       "      <th>Звонков днем за месяц</th>\n",
       "      <th>Звонков вечером за месяц</th>\n",
       "      <th>Звонков ночью за месяц</th>\n",
       "      <th>Звонки в другие города</th>\n",
       "      <th>Звонки в другие страны</th>\n",
       "      <th>Доля звонков на стационарные телефоны</th>\n",
       "      <th>Количество SMS за месяц</th>\n",
       "      <th>Номер кластера</th>\n",
       "      <th>Номер кластера по к-средним</th>\n",
       "    </tr>\n",
       "  </thead>\n",
       "  <tbody>\n",
       "    <tr>\n",
       "      <th>0</th>\n",
       "      <td>0</td>\n",
       "      <td>24</td>\n",
       "      <td>121.54</td>\n",
       "      <td>2.4</td>\n",
       "      <td>12</td>\n",
       "      <td>65</td>\n",
       "      <td>5</td>\n",
       "      <td>0</td>\n",
       "      <td>0</td>\n",
       "      <td>5</td>\n",
       "      <td>56</td>\n",
       "      <td>2</td>\n",
       "      <td>4</td>\n",
       "    </tr>\n",
       "    <tr>\n",
       "      <th>1</th>\n",
       "      <td>1</td>\n",
       "      <td>51</td>\n",
       "      <td>287.51</td>\n",
       "      <td>1.7</td>\n",
       "      <td>111</td>\n",
       "      <td>109</td>\n",
       "      <td>1</td>\n",
       "      <td>44</td>\n",
       "      <td>0</td>\n",
       "      <td>6</td>\n",
       "      <td>1</td>\n",
       "      <td>3</td>\n",
       "      <td>3</td>\n",
       "    </tr>\n",
       "    <tr>\n",
       "      <th>2</th>\n",
       "      <td>2</td>\n",
       "      <td>41</td>\n",
       "      <td>113.70</td>\n",
       "      <td>2.1</td>\n",
       "      <td>41</td>\n",
       "      <td>27</td>\n",
       "      <td>0</td>\n",
       "      <td>0</td>\n",
       "      <td>0</td>\n",
       "      <td>1</td>\n",
       "      <td>36</td>\n",
       "      <td>2</td>\n",
       "      <td>4</td>\n",
       "    </tr>\n",
       "    <tr>\n",
       "      <th>3</th>\n",
       "      <td>3</td>\n",
       "      <td>35</td>\n",
       "      <td>410.23</td>\n",
       "      <td>5.6</td>\n",
       "      <td>47</td>\n",
       "      <td>49</td>\n",
       "      <td>0</td>\n",
       "      <td>0</td>\n",
       "      <td>0</td>\n",
       "      <td>11</td>\n",
       "      <td>23</td>\n",
       "      <td>4</td>\n",
       "      <td>1</td>\n",
       "    </tr>\n",
       "    <tr>\n",
       "      <th>4</th>\n",
       "      <td>4</td>\n",
       "      <td>26</td>\n",
       "      <td>537.60</td>\n",
       "      <td>4.8</td>\n",
       "      <td>58</td>\n",
       "      <td>77</td>\n",
       "      <td>4</td>\n",
       "      <td>0</td>\n",
       "      <td>0</td>\n",
       "      <td>16</td>\n",
       "      <td>29</td>\n",
       "      <td>4</td>\n",
       "      <td>6</td>\n",
       "    </tr>\n",
       "  </tbody>\n",
       "</table>\n",
       "</div>"
      ],
      "text/plain": [
       "   Код  Возраст  Среднемесячный расход  Средняя продолжительность разговоров  \\\n",
       "0    0       24                 121.54                                   2.4   \n",
       "1    1       51                 287.51                                   1.7   \n",
       "2    2       41                 113.70                                   2.1   \n",
       "3    3       35                 410.23                                   5.6   \n",
       "4    4       26                 537.60                                   4.8   \n",
       "\n",
       "   Звонков днем за месяц  Звонков вечером за месяц  Звонков ночью за месяц  \\\n",
       "0                     12                        65                       5   \n",
       "1                    111                       109                       1   \n",
       "2                     41                        27                       0   \n",
       "3                     47                        49                       0   \n",
       "4                     58                        77                       4   \n",
       "\n",
       "   Звонки в другие города  Звонки в другие страны  \\\n",
       "0                       0                       0   \n",
       "1                      44                       0   \n",
       "2                       0                       0   \n",
       "3                       0                       0   \n",
       "4                       0                       0   \n",
       "\n",
       "   Доля звонков на стационарные телефоны  Количество SMS за месяц  \\\n",
       "0                                      5                       56   \n",
       "1                                      6                        1   \n",
       "2                                      1                       36   \n",
       "3                                     11                       23   \n",
       "4                                     16                       29   \n",
       "\n",
       "   Номер кластера  Номер кластера по к-средним  \n",
       "0               2                            4  \n",
       "1               3                            3  \n",
       "2               2                            4  \n",
       "3               4                            1  \n",
       "4               4                            6  "
      ]
     },
     "execution_count": 177,
     "metadata": {},
     "output_type": "execute_result"
    }
   ],
   "source": [
    "df.loc[:,'Номер кластера по к-средним']=label_claster\n",
    "df.head()"
   ]
  },
  {
   "cell_type": "markdown",
   "metadata": {},
   "source": [
    "Литература\n",
    "1. Маккинли У. Python и анализ данных. - М.: ДМК Пресс, 2015. – 482 с.\n",
    "2. https://joernhees.de/blog/2015/08/26/scipy-hierarchical-clustering-and-dendrogram-tutorial/\n",
    "3. https://docs.scipy.org/doc/scipy/reference/cluster.hierarchy.html\n",
    "\n",
    "Масштабирование признаков http://sebastianraschka.com/Articles/2014_about_feature_scaling.html    \n",
    "Сравнение методов кластеризации https://scikit-learn.org/stable/modules/clustering.html# "
   ]
  },
  {
   "cell_type": "code",
   "execution_count": null,
   "metadata": {},
   "outputs": [],
   "source": []
  }
 ],
 "metadata": {
  "kernelspec": {
   "display_name": "Python 3",
   "language": "python",
   "name": "python3"
  },
  "language_info": {
   "codemirror_mode": {
    "name": "ipython",
    "version": 3
   },
   "file_extension": ".py",
   "mimetype": "text/x-python",
   "name": "python",
   "nbconvert_exporter": "python",
   "pygments_lexer": "ipython3",
   "version": "3.7.6"
  }
 },
 "nbformat": 4,
 "nbformat_minor": 2
}
